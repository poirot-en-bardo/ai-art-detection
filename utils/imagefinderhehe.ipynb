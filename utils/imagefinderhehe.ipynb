{
 "cells": [
  {
   "cell_type": "code",
   "execution_count": 1,
   "metadata": {},
   "outputs": [],
   "source": [
    "import cv2\n",
    "import os\n",
    "import numpy as np\n"
   ]
  },
  {
   "cell_type": "code",
   "execution_count": 2,
   "metadata": {},
   "outputs": [],
   "source": [
    "\n",
    "def calculate_histogram(image_path):\n",
    "    \"\"\"\n",
    "    Calculates the normalized histogram of an image.\n",
    "    \n",
    "    Args:\n",
    "        image_path (str): Path to the image.\n",
    "    \n",
    "    Returns:\n",
    "        ndarray: Normalized histogram.\n",
    "    \"\"\"\n",
    "    image = cv2.imread(image_path)\n",
    "    if image is None:\n",
    "        raise ValueError(f\"Cannot read image at path: {image_path}\")\n",
    "    \n",
    "    # Convert to grayscale\n",
    "    gray = cv2.cvtColor(image, cv2.COLOR_BGR2GRAY)\n",
    "    \n",
    "    # Compute histogram\n",
    "    hist = cv2.calcHist([gray], [0], None, [256], [0, 256])\n",
    "    \n",
    "    # Normalize histogram\n",
    "    hist = cv2.normalize(hist, hist).flatten()\n",
    "    \n",
    "    return hist\n",
    "\n",
    "def find_most_similar_image(target_image_path, folder_path):\n",
    "    \"\"\"\n",
    "    Finds the path of the image in the folder that is most similar to the target image.\n",
    "    \n",
    "    Args:\n",
    "        target_image_path (str): Path to the target image.\n",
    "        folder_path (str): Path to the folder containing images.\n",
    "    \n",
    "    Returns:\n",
    "        str: Path of the most similar image.\n",
    "    \"\"\"\n",
    "    target_hist = calculate_histogram(target_image_path)\n",
    "    best_match = None\n",
    "    best_score = float('inf')\n",
    "\n",
    "    # Iterate through the images in the folder\n",
    "    for filename in os.listdir(folder_path):\n",
    "        file_path = os.path.join(folder_path, filename)\n",
    "        if not os.path.isfile(file_path):\n",
    "            continue  # Skip directories or non-file entries\n",
    "\n",
    "        try:\n",
    "            candidate_hist = calculate_histogram(file_path)\n",
    "            # Compare histograms using the correlation method\n",
    "            score = cv2.compareHist(target_hist, candidate_hist, cv2.HISTCMP_CHISQR)\n",
    "            \n",
    "            # Update best match\n",
    "            if score < best_score:\n",
    "                best_score = score\n",
    "                best_match = file_path\n",
    "        except Exception as e:\n",
    "            print(f\"Error processing {file_path}: {e}\")\n",
    "\n",
    "    return best_match\n",
    "\n"
   ]
  },
  {
   "cell_type": "code",
   "execution_count": 8,
   "metadata": {},
   "outputs": [
    {
     "name": "stdout",
     "output_type": "stream",
     "text": [
      "The most similar image is: /home/oem/eliza/DL/project/data/artifact/generated/stylegan3-t-metfacesu-1024x1024/img004265.jpg\n"
     ]
    }
   ],
   "source": [
    "# Example usage\n",
    "target_image = \"/home/oem/eliza/DL/project/data/artifact/man.png\"\n",
    "image_folder = \"/home/oem/eliza/DL/project/data/artifact/generated/stylegan3-t-metfacesu-1024x1024\"\n",
    "\n",
    "most_similar_image = find_most_similar_image(target_image, image_folder)\n",
    "print(f\"The most similar image is: {most_similar_image}\")\n"
   ]
  },
  {
   "cell_type": "code",
   "execution_count": null,
   "metadata": {},
   "outputs": [],
   "source": []
  }
 ],
 "metadata": {
  "kernelspec": {
   "display_name": "python3.10",
   "language": "python",
   "name": "python3"
  },
  "language_info": {
   "codemirror_mode": {
    "name": "ipython",
    "version": 3
   },
   "file_extension": ".py",
   "mimetype": "text/x-python",
   "name": "python",
   "nbconvert_exporter": "python",
   "pygments_lexer": "ipython3",
   "version": "3.10.14"
  }
 },
 "nbformat": 4,
 "nbformat_minor": 2
}
