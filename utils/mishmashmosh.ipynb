{
 "cells": [
  {
   "cell_type": "code",
   "execution_count": 2,
   "metadata": {},
   "outputs": [],
   "source": [
    "import cv2\n",
    "import numpy as np"
   ]
  },
  {
   "cell_type": "code",
   "execution_count": null,
   "metadata": {},
   "outputs": [],
   "source": [
    "\n",
    "def extract_frequency_components(img, mode, cutoff=40):\n",
    "    \"\"\"\n",
    "    Extracts high or low frequency components from an image using a Gaussian filter.\n",
    "    \n",
    "    Args:\n",
    "        img (ndarray): Input image.\n",
    "        mode (str): 'low_freq' or 'high_freq'.\n",
    "        cutoff (float): Determines the filter size.\n",
    "\n",
    "    Returns:\n",
    "        ndarray: Processed image with extracted frequency components.\n",
    "    \"\"\"\n",
    "    gray = cv2.cvtColor(img, cv2.COLOR_BGR2GRAY)\n",
    "    dft = np.fft.fft2(gray)\n",
    "    dft_shift = np.fft.fftshift(dft)\n",
    "\n",
    "    rows, cols = gray.shape\n",
    "    crow, ccol = rows // 2, cols // 2\n",
    "\n",
    "    # Gaussian filter\n",
    "    x, y = np.ogrid[:rows, :cols]\n",
    "    if mode == 'low_freq':\n",
    "        mask = np.exp(-((x - crow)**2 + (y - ccol)**2) / (2.0 * cutoff**2))\n",
    "    elif mode == 'high_freq':\n",
    "        mask = 1 - np.exp(-((x - crow)**2 + (y - ccol)**2) / (2.0 * cutoff**2))\n",
    "    else:\n",
    "        raise ValueError(\"Mode must be 'low_freq' or 'high_freq'\")\n",
    "\n",
    "    # Apply mask to frequency domain\n",
    "    filtered = dft_shift * mask\n",
    "\n",
    "    # Transform back to the spatial domain\n",
    "    img_back = np.fft.ifft2(np.fft.ifftshift(filtered))\n",
    "    img_back = np.abs(img_back)\n",
    "\n",
    "    # Normalize to 8-bit range\n",
    "    img_back = cv2.normalize(img_back, None, 0, 255, cv2.NORM_MINMAX)\n",
    "    return img_back.astype(np.uint8)\n",
    "\n",
    "def blend_images(img1, img2, cutoff=40):\n",
    "    \"\"\"\n",
    "    Blends high-frequency components of img1 with low-frequency components of img2 and vice versa.\n",
    "    \n",
    "    Args:\n",
    "        img1 (ndarray): First input image.\n",
    "        img2 (ndarray): Second input image.\n",
    "        cutoff (float): Determines the filter size.\n",
    "\n",
    "    Returns:\n",
    "        tuple: Two blended images (high_on_low, low_on_high).\n",
    "    \"\"\"\n",
    "    # Extract components\n",
    "    low_freq_img1 = extract_frequency_components(img1, 'low_freq', cutoff)\n",
    "    high_freq_img1 = extract_frequency_components(img1, 'high_freq', cutoff)\n",
    "    low_freq_img2 = extract_frequency_components(img2, 'low_freq', cutoff)\n",
    "    high_freq_img2 = extract_frequency_components(img2, 'high_freq', cutoff)\n",
    "\n",
    "    # Blend components\n",
    "    high_on_low = cv2.addWeighted(low_freq_img2, 0.5, high_freq_img1, 0.5, 0)\n",
    "    low_on_high = cv2.addWeighted(low_freq_img1, 0.5, high_freq_img2, 0.5, 0)\n",
    "\n",
    "    return high_on_low, low_on_high\n",
    "\n",
    "def mishmashmosh(img_path1, img_path2, cutoff=40):\n",
    "    \"\"\"\n",
    "    Main function to read images, process them, and display the results.\n",
    "    \n",
    "    Args:\n",
    "        img_path1 (str): Path to the first image.\n",
    "        img_path2 (str): Path to the second image.\n",
    "        cutoff (float): Determines the filter size.\n",
    "    \"\"\"\n",
    "    # Read images\n",
    "    img1 = cv2.imread(img_path1)\n",
    "    img2 = cv2.imread(img_path2)\n",
    "\n",
    "    if img1 is None or img2 is None:\n",
    "        print(\"Error: One of the image paths is invalid.\")\n",
    "        return\n",
    "\n",
    "    # Blend images\n",
    "    high_on_low, low_on_high = blend_images(img1, img2, cutoff)\n",
    "\n",
    "    # Display results\n",
    "    cv2.imshow('High on Low', high_on_low)\n",
    "    cv2.imshow('Low on High', low_on_high)\n",
    "    cv2.waitKey(0)\n",
    "    cv2.destroyAllWindows()\n"
   ]
  },
  {
   "cell_type": "code",
   "execution_count": 4,
   "metadata": {},
   "outputs": [
    {
     "ename": "",
     "evalue": "",
     "output_type": "error",
     "traceback": [
      "\u001b[1;31mThe Kernel crashed while executing code in the current cell or a previous cell. \n",
      "\u001b[1;31mPlease review the code in the cell(s) to identify a possible cause of the failure. \n",
      "\u001b[1;31mClick <a href='https://aka.ms/vscodeJupyterKernelCrash'>here</a> for more info. \n",
      "\u001b[1;31mView Jupyter <a href='command:jupyter.viewOutput'>log</a> for further details."
     ]
    }
   ],
   "source": [
    "# Replace with paths to your images\n",
    "img_path1 = \"/home/oem/eliza/DL/project/data/artifact/real/a-y-jackson_st-john-s-newfoundland-1951.jpg\"\n",
    "img_path2 = \"/home/oem/eliza/DL/project/data/artifact/generated/art_painting/img000245.jpg\"\n",
    "\n",
    "mishmashmosh(img_path1, img_path2, cutoff=40)"
   ]
  }
 ],
 "metadata": {
  "kernelspec": {
   "display_name": "python3.10",
   "language": "python",
   "name": "python3"
  },
  "language_info": {
   "codemirror_mode": {
    "name": "ipython",
    "version": 3
   },
   "file_extension": ".py",
   "mimetype": "text/x-python",
   "name": "python",
   "nbconvert_exporter": "python",
   "pygments_lexer": "ipython3",
   "version": "3.10.14"
  }
 },
 "nbformat": 4,
 "nbformat_minor": 2
}
