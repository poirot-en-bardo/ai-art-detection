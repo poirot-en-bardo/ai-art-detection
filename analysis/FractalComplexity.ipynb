{
 "cells": [
  {
   "cell_type": "code",
   "execution_count": null,
   "metadata": {},
   "outputs": [],
   "source": [
    "import numpy as np\n",
    "import cv2\n",
    "import matplotlib.pyplot as plt"
   ]
  },
  {
   "cell_type": "code",
   "execution_count": 6,
   "metadata": {},
   "outputs": [],
   "source": [
    "def box_count(image, box_size):\n",
    "    \"\"\"Count the number of boxes needed to cover the image.\"\"\"\n",
    "    count = 0\n",
    "    for y in range(0, image.shape[0], box_size):\n",
    "        for x in range(0, image.shape[1], box_size):\n",
    "            # Check if there is any non-zero pixel in the box\n",
    "            if np.any(image[y:y+box_size, x:x+box_size] > 0):\n",
    "                count += 1\n",
    "    return count\n",
    "\n",
    "def fractal_dimension(image, max_box_size=32, min_box_size=2):\n",
    "    \"\"\"Calculate the fractal dimension using box-counting method.\"\"\"\n",
    "    # Convert image to grayscale (if needed)\n",
    "    gray_image = cv2.cvtColor(image, cv2.COLOR_BGR2GRAY) if len(image.shape) == 3 else image\n",
    "    \n",
    "    # Apply a binary threshold to ensure we're working with clear features\n",
    "    _, gray_image = cv2.threshold(gray_image, 1, 255, cv2.THRESH_BINARY)\n",
    "\n",
    "    # Calculate the box counts for multiple box sizes\n",
    "    box_sizes = []\n",
    "    counts = []\n",
    "    for box_size in range(min_box_size, max_box_size + 1):\n",
    "        count = box_count(gray_image, box_size)\n",
    "        if count > 0:\n",
    "            counts.append(count)\n",
    "            box_sizes.append(1 / box_size)\n",
    "\n",
    "    if len(counts) < 2:  # Not enough data for log-log fit\n",
    "        return None\n",
    "    \n",
    "    # Compute the fractal dimension using log-log plot\n",
    "    log_box_sizes = np.log(box_sizes)\n",
    "    log_counts = np.log(counts)\n",
    "    \n",
    "    # Linear regression to estimate the slope (fractal dimension)\n",
    "    slope, intercept = np.polyfit(log_box_sizes, log_counts, 1)\n",
    "    \n",
    "    return -slope  # Negative slope is the fractal dimension"
   ]
  },
  {
   "cell_type": "code",
   "execution_count": 9,
   "metadata": {},
   "outputs": [],
   "source": [
    "def calculate_entropy(image):\n",
    "    \"\"\"Calculate the Shannon entropy of an image.\"\"\"\n",
    "    # Flatten the image to a 1D array and compute histogram\n",
    "    hist = cv2.calcHist([image], [0], None, [256], [0, 256])\n",
    "    hist /= hist.sum()  # Normalize histogram to get probabilities\n",
    "    entropy = -np.sum(hist * np.log2(hist + 1e-7))  # Add small epsilon to avoid log(0)\n",
    "    return entropy\n"
   ]
  },
  {
   "cell_type": "code",
   "execution_count": 12,
   "metadata": {},
   "outputs": [
    {
     "name": "stdout",
     "output_type": "stream",
     "text": [
      "Fractal Dimension of L channel: -1.9412795768128503\n",
      "Fractal Dimension of A channel: -1.9412795768128503\n",
      "Fractal Dimension of B channel: -1.9412795768128503\n"
     ]
    }
   ],
   "source": [
    "# Example usage on an image\n",
    "image = cv2.imread('/home/oem/eliza/DL/project/data/artifact/real/a-y-jackson_october-morning-algoma-wartz-lake-1920.jpg')\n",
    "\n",
    "# Convert image to LAB color space\n",
    "lab_image = cv2.cvtColor(image, cv2.COLOR_BGR2LAB)\n",
    "\n",
    "# Calculate fractal dimension for each channel (L, A, B)\n",
    "l_channel, a_channel, b_channel = cv2.split(lab_image)\n",
    "\n",
    "# Fractal dimension for each channel\n",
    "fd_l = fractal_dimension(l_channel)\n",
    "fd_a = fractal_dimension(a_channel)\n",
    "fd_b = fractal_dimension(b_channel)\n",
    "\n",
    "print(f\"Fractal Dimension of L channel: {fd_l}\")\n",
    "print(f\"Fractal Dimension of A channel: {fd_a}\")\n",
    "print(f\"Fractal Dimension of B channel: {fd_b}\")"
   ]
  },
  {
   "cell_type": "code",
   "execution_count": 13,
   "metadata": {},
   "outputs": [
    {
     "name": "stdout",
     "output_type": "stream",
     "text": [
      "Shannon Entropy of L channel: 7.1472039222717285\n",
      "Shannon Entropy of A channel: 4.952820777893066\n",
      "Shannon Entropy of B channel: 5.406389236450195\n"
     ]
    }
   ],
   "source": [
    "# Shannon entropy for each channel\n",
    "entropy_l = calculate_entropy(l_channel)\n",
    "entropy_a = calculate_entropy(a_channel)\n",
    "entropy_b = calculate_entropy(b_channel)\n",
    "\n",
    "print(f\"Shannon Entropy of L channel: {entropy_l}\")\n",
    "print(f\"Shannon Entropy of A channel: {entropy_a}\")\n",
    "print(f\"Shannon Entropy of B channel: {entropy_b}\")"
   ]
  }
 ],
 "metadata": {
  "kernelspec": {
   "display_name": "python3.10",
   "language": "python",
   "name": "python3"
  },
  "language_info": {
   "codemirror_mode": {
    "name": "ipython",
    "version": 3
   },
   "file_extension": ".py",
   "mimetype": "text/x-python",
   "name": "python",
   "nbconvert_exporter": "python",
   "pygments_lexer": "ipython3",
   "version": "3.10.14"
  }
 },
 "nbformat": 4,
 "nbformat_minor": 2
}
