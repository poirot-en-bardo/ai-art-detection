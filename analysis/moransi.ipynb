{
 "cells": [
  {
   "cell_type": "code",
   "execution_count": 1,
   "metadata": {},
   "outputs": [],
   "source": [
    "import torch\n",
    "import numpy as np\n",
    "from skimage.color import rgb2lab\n",
    "from skimage.io import imread"
   ]
  },
  {
   "cell_type": "code",
   "execution_count": 2,
   "metadata": {},
   "outputs": [],
   "source": [
    "def compute_morans_i_torch(channel):\n",
    "    \"\"\"\n",
    "    Compute Moran's I for a single-channel image using PyTorch.\n",
    "    Args:\n",
    "        channel (torch.Tensor): 2D tensor representing a single color channel.\n",
    "    Returns:\n",
    "        float: Moran's I value.\n",
    "    \"\"\"\n",
    "    # Flatten the channel and compute mean\n",
    "    N = channel.numel()\n",
    "    mean_value = torch.mean(channel)\n",
    "\n",
    "    # Create spatial weight matrix for 4-nearest neighbors\n",
    "    height, width = channel.shape\n",
    "    weights = torch.zeros((height, width), device=channel.device)\n",
    "\n",
    "    # Shift the channel to simulate neighboring relationships\n",
    "    if height > 1:\n",
    "        weights[:-1, :] += channel[1:, :]  # Up\n",
    "        weights[1:, :] += channel[:-1, :]  # Down\n",
    "    if width > 1:\n",
    "        weights[:, :-1] += channel[:, 1:]  # Right\n",
    "        weights[:, 1:] += channel[:, :-1]  # Left\n",
    "\n",
    "    # Numerator: weighted sum of deviations\n",
    "    deviations = (channel - mean_value)\n",
    "    numerator = torch.sum(weights * deviations * deviations)\n",
    "\n",
    "    # Denominator: sum of squared deviations\n",
    "    denominator = torch.sum(deviations ** 2)\n",
    "\n",
    "    # Normalization factor\n",
    "    w_sum = torch.sum(weights)\n",
    "    morans_i = (N / w_sum) * (numerator / denominator)\n",
    "\n",
    "    return morans_i.item()\n"
   ]
  },
  {
   "cell_type": "code",
   "execution_count": 3,
   "metadata": {},
   "outputs": [],
   "source": [
    "\n",
    "# Load and preprocess the image\n",
    "def preprocess_image(image_path):\n",
    "    \"\"\"\n",
    "    Load an image and convert it to LAB space.\n",
    "    Args:\n",
    "        image_path (str): Path to the image.\n",
    "    Returns:\n",
    "        tuple: LAB channels as PyTorch tensors (L, A, B).\n",
    "    \"\"\"\n",
    "    # Load image and convert to LAB\n",
    "    image = imread(image_path) / 255.0  # Normalize to [0, 1]\n",
    "    lab_image = rgb2lab(image)\n",
    "\n",
    "    # Extract LAB channels and convert to PyTorch tensors\n",
    "    L = torch.tensor(lab_image[:, :, 0], dtype=torch.float32)\n",
    "    A = torch.tensor(lab_image[:, :, 1], dtype=torch.float32)\n",
    "    B = torch.tensor(lab_image[:, :, 2], dtype=torch.float32)\n",
    "\n",
    "    return L, A, B\n",
    "\n",
    "\n"
   ]
  },
  {
   "cell_type": "code",
   "execution_count": 6,
   "metadata": {},
   "outputs": [
    {
     "name": "stdout",
     "output_type": "stream",
     "text": [
      "Moran's I for L (Lightness): 1.0271379947662354\n",
      "Moran's I for A (Red-Green): 0.9829598069190979\n",
      "Moran's I for B (Blue-Yellow): 1.1065735816955566\n"
     ]
    }
   ],
   "source": [
    "# Path to the image\n",
    "image_path = \"/home/oem/eliza/DL/project/data/artifact/generated/photo2monet/img010694.jpg\"\n",
    "\n",
    "# Preprocess the image\n",
    "L, A, B = preprocess_image(image_path)\n",
    "\n",
    "# Compute Moran's I for each channel\n",
    "morans_L = compute_morans_i_torch(L)\n",
    "morans_A = compute_morans_i_torch(A)\n",
    "morans_B = compute_morans_i_torch(B)\n",
    "\n",
    "# Print results\n",
    "print(f\"Moran's I for L (Lightness): {morans_L}\")\n",
    "print(f\"Moran's I for A (Red-Green): {morans_A}\")\n",
    "print(f\"Moran's I for B (Blue-Yellow): {morans_B}\")"
   ]
  }
 ],
 "metadata": {
  "kernelspec": {
   "display_name": "python3.10",
   "language": "python",
   "name": "python3"
  },
  "language_info": {
   "codemirror_mode": {
    "name": "ipython",
    "version": 3
   },
   "file_extension": ".py",
   "mimetype": "text/x-python",
   "name": "python",
   "nbconvert_exporter": "python",
   "pygments_lexer": "ipython3",
   "version": "3.10.14"
  }
 },
 "nbformat": 4,
 "nbformat_minor": 2
}
