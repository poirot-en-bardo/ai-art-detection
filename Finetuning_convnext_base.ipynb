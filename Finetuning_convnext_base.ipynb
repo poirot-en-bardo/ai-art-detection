{
 "cells": [
  {
   "cell_type": "code",
   "execution_count": 17,
   "metadata": {
    "id": "9INzPcbAUYOK"
   },
   "outputs": [
    {
     "name": "stdout",
     "output_type": "stream",
     "text": [
      "cuda\n"
     ]
    }
   ],
   "source": [
    "#import libraries\n",
    "import torch\n",
    "import torch.nn as nn\n",
    "import shutil\n",
    "from torchvision import datasets, models, transforms\n",
    "from torch.utils.data import Dataset,DataLoader,random_split\n",
    "from tqdm import tqdm\n",
    "from sklearn.model_selection import train_test_split\n",
    "import os\n",
    "from PIL import Image,ImageFile\n",
    "import torch.optim as optim\n",
    "import pandas as pd\n",
    "import copy\n",
    "from torch.optim import lr_scheduler\n",
    "from torch.utils.tensorboard import SummaryWriter\n",
    "import cv2\n",
    "from torchvision import transforms\n",
    "import albumentations as augment\n",
    "from albumentations.pytorch import ToTensorV2\n",
    "import numpy as np\n",
    "\n",
    "device = 'cuda' if torch.cuda.is_available() else 'cpu'\n",
    "print(device)"
   ]
  },
  {
   "cell_type": "code",
   "execution_count": 18,
   "metadata": {},
   "outputs": [
    {
     "data": {
      "text/plain": [
       "<torch._C.Generator at 0x76ee3eb536b0>"
      ]
     },
     "execution_count": 18,
     "metadata": {},
     "output_type": "execute_result"
    }
   ],
   "source": [
    "seed_val = 420\n",
    "torch.manual_seed(seed_val)"
   ]
  },
  {
   "cell_type": "code",
   "execution_count": 19,
   "metadata": {
    "id": "lgtLNNoslyOn"
   },
   "outputs": [],
   "source": [
    "base_data_dir = '../data'\n",
    "fake_dir = os.path.join(base_data_dir, 'generated')  # Fake artworks directory\n",
    "real_dir = os.path.join(base_data_dir, 'real')  # Real artworks directory\n",
    "writer = SummaryWriter() "
   ]
  },
  {
   "cell_type": "markdown",
   "metadata": {
    "id": "0eqZfdnU2h0c"
   },
   "source": [
    "ARTWORK DATASET"
   ]
  },
  {
   "cell_type": "code",
   "execution_count": 20,
   "metadata": {
    "id": "JGgx0Qz7Abww"
   },
   "outputs": [],
   "source": [
    "#Class to manage artworks with respect to their authenticity\n",
    "\n",
    "class ArtworkDataset(Dataset):\n",
    "  def __init__(self,links,transform):\n",
    "      self.data = links\n",
    "      self.transform = transform\n",
    "\n",
    "  def __len__(self):\n",
    "    return self.data.index.shape[0]\n",
    "    \n",
    "  def __getitem__(self,idx):\n",
    "        img = Image.open(self.data.iloc[idx,0])\n",
    "        label_index = self.data.iloc[idx, 1]\n",
    "        if (img.mode != 'RGB'):\n",
    "            img = img.convert('RGB')\n",
    "\n",
    "        if self.transform:\n",
    "            img = np.array(img)\n",
    "            augmented = self.transform(image = img)\n",
    "            img = augmented['image']\n",
    "        return img, label_index\n"
   ]
  },
  {
   "cell_type": "code",
   "execution_count": 21,
   "metadata": {
    "id": "YtBEgWxnk6cl"
   },
   "outputs": [
    {
     "name": "stdout",
     "output_type": "stream",
     "text": [
      "CSV file saved at ../data/image_labels.csv\n"
     ]
    }
   ],
   "source": [
    "# Create a CSV file with paths to artwork images and their labels (real or fake)\n",
    "data = [] \n",
    "\n",
    "# Iterate over the fake artworks and add their paths and labels to the list\n",
    "for dirpath, dirnames, filenames in os.walk(fake_dir):\n",
    "    for filename in filenames:\n",
    "        if filename.endswith(\".jpg\"): # only consider jpg files\n",
    "            filepath = os.path.join(dirpath, filename)\n",
    "            data.append((filepath, \"0\"))\n",
    "\n",
    "\n",
    "# Iterate over the real artworks and add their paths and labels to the list\n",
    "for dirpath, dirnames, filenames in os.walk(real_dir):\n",
    "    for filename in filenames:\n",
    "        if filename.endswith(\".jpg\"):\n",
    "            filepath = os.path.join(dirpath, filename)\n",
    "            data.append((filepath, \"1\"))  # Label 1 for real artworks\n",
    "\n",
    "# Convert the list \"data\" to a pandas dataframe\n",
    "df = pd.DataFrame(data, columns=[\"path\", \"label\"])\n",
    "\n",
    "# Save the dataframe to a CSV file\n",
    "csv_output_path = os.path.join(base_data_dir, \"image_labels.csv\")\n",
    "df.to_csv(csv_output_path, index=False)\n",
    "print(f\"CSV file saved at {csv_output_path}\")\n"
   ]
  },
  {
   "cell_type": "markdown",
   "metadata": {
    "id": "E5tSRTVLyp14"
   },
   "source": [
    "LOAD PRETRAINED MODEL"
   ]
  },
  {
   "cell_type": "code",
   "execution_count": null,
   "metadata": {
    "colab": {
     "base_uri": "https://localhost:8080/"
    },
    "id": "aMq_NPE1pbFG",
    "outputId": "a86e8690-f0ed-40df-f285-137995256b0f"
   },
   "outputs": [
    {
     "name": "stdout",
     "output_type": "stream",
     "text": [
      "Requirement already satisfied: timm in /home/oem/miniconda3/envs/python3.10/lib/python3.10/site-packages (1.0.9)\n",
      "Requirement already satisfied: torch in /home/oem/miniconda3/envs/python3.10/lib/python3.10/site-packages (from timm) (2.4.1)\n",
      "Requirement already satisfied: torchvision in /home/oem/miniconda3/envs/python3.10/lib/python3.10/site-packages (from timm) (0.19.1)\n",
      "Requirement already satisfied: pyyaml in /home/oem/miniconda3/envs/python3.10/lib/python3.10/site-packages (from timm) (6.0.1)\n",
      "Requirement already satisfied: huggingface_hub in /home/oem/miniconda3/envs/python3.10/lib/python3.10/site-packages (from timm) (0.20.3)\n",
      "Requirement already satisfied: safetensors in /home/oem/miniconda3/envs/python3.10/lib/python3.10/site-packages (from timm) (0.4.4)\n",
      "Requirement already satisfied: filelock in /home/oem/miniconda3/envs/python3.10/lib/python3.10/site-packages (from huggingface_hub->timm) (3.13.1)\n",
      "Requirement already satisfied: fsspec>=2023.5.0 in /home/oem/miniconda3/envs/python3.10/lib/python3.10/site-packages (from huggingface_hub->timm) (2024.6.1)\n",
      "Requirement already satisfied: requests in /home/oem/miniconda3/envs/python3.10/lib/python3.10/site-packages (from huggingface_hub->timm) (2.32.3)\n",
      "Requirement already satisfied: tqdm>=4.42.1 in /home/oem/miniconda3/envs/python3.10/lib/python3.10/site-packages (from huggingface_hub->timm) (4.66.5)\n",
      "Requirement already satisfied: typing-extensions>=3.7.4.3 in /home/oem/miniconda3/envs/python3.10/lib/python3.10/site-packages (from huggingface_hub->timm) (4.11.0)\n",
      "Requirement already satisfied: packaging>=20.9 in /home/oem/miniconda3/envs/python3.10/lib/python3.10/site-packages (from huggingface_hub->timm) (24.1)\n",
      "Requirement already satisfied: sympy in /home/oem/miniconda3/envs/python3.10/lib/python3.10/site-packages (from torch->timm) (1.13.2)\n",
      "Requirement already satisfied: networkx in /home/oem/miniconda3/envs/python3.10/lib/python3.10/site-packages (from torch->timm) (3.3)\n",
      "Requirement already satisfied: jinja2 in /home/oem/miniconda3/envs/python3.10/lib/python3.10/site-packages (from torch->timm) (3.1.4)\n",
      "Requirement already satisfied: numpy in /home/oem/miniconda3/envs/python3.10/lib/python3.10/site-packages (from torchvision->timm) (1.26.4)\n",
      "Requirement already satisfied: pillow!=8.3.*,>=5.3.0 in /home/oem/miniconda3/envs/python3.10/lib/python3.10/site-packages (from torchvision->timm) (10.4.0)\n",
      "Requirement already satisfied: MarkupSafe>=2.0 in /home/oem/miniconda3/envs/python3.10/lib/python3.10/site-packages (from jinja2->torch->timm) (2.1.3)\n",
      "Requirement already satisfied: charset-normalizer<4,>=2 in /home/oem/miniconda3/envs/python3.10/lib/python3.10/site-packages (from requests->huggingface_hub->timm) (3.3.2)\n",
      "Requirement already satisfied: idna<4,>=2.5 in /home/oem/miniconda3/envs/python3.10/lib/python3.10/site-packages (from requests->huggingface_hub->timm) (3.7)\n",
      "Requirement already satisfied: urllib3<3,>=1.21.1 in /home/oem/miniconda3/envs/python3.10/lib/python3.10/site-packages (from requests->huggingface_hub->timm) (2.2.3)\n",
      "Requirement already satisfied: certifi>=2017.4.17 in /home/oem/miniconda3/envs/python3.10/lib/python3.10/site-packages (from requests->huggingface_hub->timm) (2024.8.30)\n",
      "Requirement already satisfied: mpmath<1.4,>=1.1.0 in /home/oem/miniconda3/envs/python3.10/lib/python3.10/site-packages (from sympy->torch->timm) (1.3.0)\n",
      "Note: you may need to restart the kernel to use updated packages.\n"
     ]
    }
   ],
   "source": [
    "%pip install timm\n",
    "import timm\n",
    "\n",
    "model = timm.create_model('convnext_base',pretrained=True, num_classes=2)\n",
    "\n",
    "model = model.to(device)\n",
    "print(model)"
   ]
  },
  {
   "cell_type": "code",
   "execution_count": null,
   "metadata": {
    "id": "VCk48tcMq95u"
   },
   "outputs": [],
   "source": [
    "#Setting the model weights to non-trainable\n",
    "for param in model.parameters(): \n",
    "    param.requires_grad = False"
   ]
  },
  {
   "cell_type": "code",
   "execution_count": null,
   "metadata": {
    "id": "ekf7GcoTrIus"
   },
   "outputs": [],
   "source": [
    "#Make the last layer of the model trainable\n",
    "for p in model.head.parameters(): #instead of fc, we use head\n",
    "    p.requires_grad=True\n"
   ]
  },
  {
   "cell_type": "markdown",
   "metadata": {
    "id": "zjxaiYnI0er8"
   },
   "source": [
    "SPLIT IN TRAINING AND VALIDATION SET"
   ]
  },
  {
   "cell_type": "code",
   "execution_count": null,
   "metadata": {
    "colab": {
     "base_uri": "https://localhost:8080/",
     "height": 423
    },
    "id": "jAtnYc-86UaP",
    "outputId": "c1d498e5-effb-4815-a275-b3c4df241fc0"
   },
   "outputs": [
    {
     "data": {
      "text/html": [
       "<div>\n",
       "<style scoped>\n",
       "    .dataframe tbody tr th:only-of-type {\n",
       "        vertical-align: middle;\n",
       "    }\n",
       "\n",
       "    .dataframe tbody tr th {\n",
       "        vertical-align: top;\n",
       "    }\n",
       "\n",
       "    .dataframe thead th {\n",
       "        text-align: right;\n",
       "    }\n",
       "</style>\n",
       "<table border=\"1\" class=\"dataframe\">\n",
       "  <thead>\n",
       "    <tr style=\"text-align: right;\">\n",
       "      <th></th>\n",
       "      <th>path</th>\n",
       "      <th>label</th>\n",
       "    </tr>\n",
       "  </thead>\n",
       "  <tbody>\n",
       "    <tr>\n",
       "      <th>0</th>\n",
       "      <td>../data/generated/stylegan3-t-metfaces-1024x10...</td>\n",
       "      <td>0</td>\n",
       "    </tr>\n",
       "    <tr>\n",
       "      <th>1</th>\n",
       "      <td>../data/generated/stylegan3-t-metfaces-1024x10...</td>\n",
       "      <td>0</td>\n",
       "    </tr>\n",
       "    <tr>\n",
       "      <th>2</th>\n",
       "      <td>../data/generated/stylegan3-t-metfaces-1024x10...</td>\n",
       "      <td>0</td>\n",
       "    </tr>\n",
       "    <tr>\n",
       "      <th>3</th>\n",
       "      <td>../data/generated/stylegan3-t-metfaces-1024x10...</td>\n",
       "      <td>0</td>\n",
       "    </tr>\n",
       "    <tr>\n",
       "      <th>4</th>\n",
       "      <td>../data/generated/stylegan3-t-metfaces-1024x10...</td>\n",
       "      <td>0</td>\n",
       "    </tr>\n",
       "    <tr>\n",
       "      <th>...</th>\n",
       "      <td>...</td>\n",
       "      <td>...</td>\n",
       "    </tr>\n",
       "    <tr>\n",
       "      <th>88146</th>\n",
       "      <td>../data/real/paul-albert-besnard_robert-de-mon...</td>\n",
       "      <td>1</td>\n",
       "    </tr>\n",
       "    <tr>\n",
       "      <th>88147</th>\n",
       "      <td>../data/real/nikolai-ge_christ-and-the-discipl...</td>\n",
       "      <td>1</td>\n",
       "    </tr>\n",
       "    <tr>\n",
       "      <th>88148</th>\n",
       "      <td>../data/real/paul-bril_view-of-a-port-1607.jpg</td>\n",
       "      <td>1</td>\n",
       "    </tr>\n",
       "    <tr>\n",
       "      <th>88149</th>\n",
       "      <td>../data/real/felix-vallotton_the-port-of-marse...</td>\n",
       "      <td>1</td>\n",
       "    </tr>\n",
       "    <tr>\n",
       "      <th>88150</th>\n",
       "      <td>../data/real/nicholas-roerich_tidings-of-the-e...</td>\n",
       "      <td>1</td>\n",
       "    </tr>\n",
       "  </tbody>\n",
       "</table>\n",
       "<p>88151 rows × 2 columns</p>\n",
       "</div>"
      ],
      "text/plain": [
       "                                                    path  label\n",
       "0      ../data/generated/stylegan3-t-metfaces-1024x10...      0\n",
       "1      ../data/generated/stylegan3-t-metfaces-1024x10...      0\n",
       "2      ../data/generated/stylegan3-t-metfaces-1024x10...      0\n",
       "3      ../data/generated/stylegan3-t-metfaces-1024x10...      0\n",
       "4      ../data/generated/stylegan3-t-metfaces-1024x10...      0\n",
       "...                                                  ...    ...\n",
       "88146  ../data/real/paul-albert-besnard_robert-de-mon...      1\n",
       "88147  ../data/real/nikolai-ge_christ-and-the-discipl...      1\n",
       "88148     ../data/real/paul-bril_view-of-a-port-1607.jpg      1\n",
       "88149  ../data/real/felix-vallotton_the-port-of-marse...      1\n",
       "88150  ../data/real/nicholas-roerich_tidings-of-the-e...      1\n",
       "\n",
       "[88151 rows x 2 columns]"
      ]
     },
     "execution_count": 10,
     "metadata": {},
     "output_type": "execute_result"
    }
   ],
   "source": [
    "dataset = df\n",
    "dataset['label'] = dataset['label'].astype(int)\n",
    "dataset"
   ]
  },
  {
   "cell_type": "code",
   "execution_count": null,
   "metadata": {
    "id": "g60Xfpx800Oo"
   },
   "outputs": [],
   "source": [
    "#train, validation = train_test_split(dataset.values, stratify=dataset.values[:, 1], test_size=.3, random_state = 1) \n",
    "\n",
    "# Split the dataset into two parts (train + validation, and test)\n",
    "train_val_data, test = train_test_split(dataset.values, test_size=0.1, random_state=seed_val)\n",
    "\n",
    "# Split the train + validation part into training and validation sets\n",
    "train, validation = train_test_split(train_val_data, test_size=0.1, random_state=seed_val)"
   ]
  },
  {
   "cell_type": "code",
   "execution_count": null,
   "metadata": {
    "id": "uWkbE_RQ1pwq"
   },
   "outputs": [],
   "source": [
    "train_links = pd.DataFrame(train, columns = dataset.columns)\n",
    "validation_links = pd.DataFrame(validation, columns = dataset.columns)\n",
    "test_links = pd.DataFrame(test, columns = dataset.columns)"
   ]
  },
  {
   "cell_type": "markdown",
   "metadata": {
    "id": "8jHAZeSr3IBk"
   },
   "source": [
    "BUILDING DATA LOADERS"
   ]
  },
  {
   "cell_type": "code",
   "execution_count": null,
   "metadata": {
    "id": "GMOMejkn65Dp"
   },
   "outputs": [],
   "source": [
    "data_transforms = transforms.Compose([\n",
    "                                transforms.Resize(224),\n",
    "                                transforms.CenterCrop(224),\n",
    "                                transforms.ToTensor(),\n",
    "                                transforms.Normalize((0.5, 0.5, 0.5), (0.5, 0.5, 0.5))\n",
    "])\n",
    "\n",
    "# # Data augmentation for training\n",
    "# train_transforms = transforms.Compose([\n",
    "#     transforms.Resize(256),  # Resize to 256x256 to allow for random crops\n",
    "#     transforms.RandomCrop(224),  # Randomly crop the image to 224x224\n",
    "#     transforms.RandomHorizontalFlip(),  # Random horizontal flip\n",
    "#     transforms.RandomRotation(10),  # Random rotation ±10 degrees\n",
    "#     transforms.ToTensor(),  # Convert image to tensor\n",
    "#     transforms.Normalize((0.5, 0.5, 0.5), (0.5, 0.5, 0.5))  # Normalize the image\n",
    "# ])\n",
    "\n",
    "# No data augmentation for validation and testing\n",
    "# val_test_transforms = transforms.Compose([\n",
    "#     transforms.Resize(224),  # Resize directly to 224x224\n",
    "#     transforms.CenterCrop(224),  # Center crop to 224x224 (optional, but recommended)\n",
    "#     transforms.ToTensor(),\n",
    "#     transforms.Normalize((0.5, 0.5, 0.5), (0.5, 0.5, 0.5))  # Normalize the image\n",
    "# ])\n",
    "\n",
    "train_transforms = augment.Compose([\n",
    "    augment.Resize(224, 224),                          # Resize to model input size (224x224)\n",
    "    augment.HorizontalFlip(p=0.5),                     # Flip image horizontally with 50% chance\n",
    "    augment.RandomBrightnessContrast(                  # Randomly adjust brightness and contrast\n",
    "        brightness_limit=0.2, contrast_limit=0.2, p=0.5\n",
    "    ),\n",
    "    augment.HueSaturationValue(                        # Adjust color slightly to handle color variations\n",
    "        hue_shift_limit=10, sat_shift_limit=10, val_shift_limit=10, p=0.3\n",
    "    ),\n",
    "    augment.GaussianBlur(blur_limit=(3, 5), p=0.3),    # Add slight blur to mimic imperfections\n",
    "    augment.ISONoise(color_shift=(0.01, 0.05), p=0.2), # Add light noise to simulate digital artifacts\n",
    "    augment.CoarseDropout(                             # Randomly mask parts to prevent overfitting on specific details\n",
    "        max_holes=4, max_height=8, max_width=8, min_holes=1, p=0.3\n",
    "    ),\n",
    "    augment.Normalize(mean=(0.485, 0.456, 0.406), std=(0.229, 0.224, 0.225)),  # Standard normalization\n",
    "    ToTensorV2()                                 # Convert to PyTorch tensor\n",
    "])\n",
    "\n",
    "val_test_transforms = augment.Compose([\n",
    "    augment.Resize(224, 224),\n",
    "    augment.CenterCrop(224, 224),\n",
    "    augment.Normalize(mean=(0.485, 0.456, 0.406), std=(0.229, 0.224, 0.225)),\n",
    "    ToTensorV2()\n",
    "])\n",
    "\n",
    "\n",
    "batch_size = 32\n",
    "\n",
    "train_set = ArtworkDataset( train_links, train_transforms)\n",
    "\n",
    "validation_set = ArtworkDataset( validation_links, val_test_transforms)\n",
    "\n",
    "test_set = ArtworkDataset( test_links,val_test_transforms)\n",
    "\n",
    "\n",
    "train_loader = DataLoader(train_set, batch_size=batch_size, shuffle=True, \n",
    "                               drop_last=False,num_workers=2)\n",
    "\n",
    "validation_loader = DataLoader(validation_set, batch_size=batch_size, shuffle=False, \n",
    "                               drop_last=False,num_workers=2)\n",
    "\n",
    "test_loader = DataLoader(test_set,batch_size=batch_size, shuffle = False,\n",
    "                              drop_last=False,num_workers=2)"
   ]
  },
  {
   "cell_type": "markdown",
   "metadata": {
    "id": "_ghMo_wYLTuq"
   },
   "source": [
    "TRAINING"
   ]
  },
  {
   "cell_type": "code",
   "execution_count": null,
   "metadata": {
    "id": "KQv22H68LXcR"
   },
   "outputs": [],
   "source": [
    "class EarlyStopping():\n",
    "    \"\"\"\n",
    "    Early stopping to stop the training when the loss does not improve after\n",
    "    certain epochs.\n",
    "    \"\"\"\n",
    "    def __init__(self, patience=5, min_delta=0.001):\n",
    "        \"\"\"\n",
    "        :param patience: how many epochs to wait before stopping when loss is\n",
    "               not improving\n",
    "        :param min_delta: minimum difference between new loss and old loss for\n",
    "               new loss to be considered as an improvement\n",
    "        \"\"\"\n",
    "        self.patience = patience\n",
    "        self.min_delta = min_delta\n",
    "        self.wait = 0\n",
    "        self.best_loss = None\n",
    "        self.early_stop = False\n",
    "        # Define the directory for saving the model\n",
    "        self.model_dir = os.path.join(os.getcwd(), 'saved_models/convnext_model')  # Save in 'vit_model' folder in the current directory\n",
    "        # Create the directory if it doesn't exist\n",
    "        os.makedirs(self.model_dir, exist_ok=True)\n",
    "\n",
    "    def __call__(self, current_loss):\n",
    "        if self.best_loss == None:\n",
    "            self.best_loss = current_loss\n",
    "        elif (current_loss - self.best_loss) < -self.min_delta:\n",
    "            self.best_loss = current_loss\n",
    "            self.wait = 0\n",
    "            \n",
    "             # Save the model state\n",
    "            model_path = os.path.join(self.model_dir, 'RealArt_vs_FakeArt_convnext_base.pt')\n",
    "\n",
    "            # Remove the old model if it exists in the same directory\n",
    "            if os.path.exists(model_path):\n",
    "                os.remove(model_path)\n",
    "            \n",
    "            # save the new model \n",
    "            torch.save(model.state_dict(), model_path)\n",
    "        else:\n",
    "            self.wait = self.wait + 1\n",
    "            print(f\"INFO: Early stopping counter {self.wait} of {self.patience}\")\n",
    "            if self.wait >= self.patience:\n",
    "                self.early_stop = True"
   ]
  },
  {
   "cell_type": "code",
   "execution_count": null,
   "metadata": {
    "id": "k500OZKGLj2W"
   },
   "outputs": [],
   "source": [
    "def fine_tune(model, train_loader, validation_loader, criterion, optimizer, scheduler, early_stop , num_epochs = 100, log_name = 'run1'):\n",
    "    best_model = copy.deepcopy(model)\n",
    "    best_acc = 0.0\n",
    "    best_epoch=0\n",
    "    stop = False\n",
    "    \n",
    "    for epoch in range(1, num_epochs + 1):\n",
    "        if stop:\n",
    "            break\n",
    "        print(f'Epoch {epoch}/{num_epochs}')\n",
    "        print('-'*120)\n",
    "\n",
    "        data_loader = None\n",
    "        # Each epoch has a training and validation phase\n",
    "        for phase in ['train', 'val']:\n",
    "            if phase == 'train':\n",
    "                model.train()  # Set model to training mode\n",
    "                data_loader = train_loader\n",
    "            else:\n",
    "                model.eval()   # Set model to evaluate mode\n",
    "                data_loader = validation_loader\n",
    "\n",
    "            running_loss = 0.0\n",
    "            running_corrects = 0\n",
    "\n",
    "            # Iterate over data\n",
    "            for inputs, labels in tqdm(data_loader):\n",
    "                \n",
    "                inputs = inputs.to(device)\n",
    "                labels = labels.to(device)\n",
    "                \n",
    "                # zero the parameter gradients\n",
    "                optimizer.zero_grad()\n",
    "\n",
    "                # forward\n",
    "                # track history if only in train\n",
    "                with torch.set_grad_enabled(phase == 'train'):\n",
    "                    outputs = model(inputs)\n",
    "                    outputs = nn.Softmax(dim = 1)(outputs)\n",
    "                    _, preds = torch.max(outputs, 1)\n",
    "                    loss = criterion(outputs, labels)\n",
    "\n",
    "                    # backward + optimize only if in training phase\n",
    "                    if phase == 'train':\n",
    "                        loss.backward()\n",
    "                        optimizer.step()\n",
    "                # statistics\n",
    "                running_loss += loss.item() * inputs.size(0)\n",
    "                running_corrects += torch.sum(preds == labels.data)\n",
    "\n",
    "            epoch_loss = running_loss / (len(data_loader) * data_loader.batch_size)\n",
    "            epoch_acc = running_corrects.double() / (len(data_loader) * data_loader.batch_size)\n",
    "            print(f'{phase} Loss: {epoch_loss:.4f} Acc: {epoch_acc:.4f}')\n",
    "                \n",
    "            if phase == 'train':\n",
    "                writer.add_scalar(f'Loss/Train/{log_name}', epoch_loss, epoch)\n",
    "                writer.add_scalar(f'Accuracy/Train/{log_name}', epoch_acc, epoch)\n",
    "                scheduler.step()\n",
    "            else:\n",
    "                writer.add_scalar(f'Loss/Validation/{log_name}', epoch_loss, epoch)\n",
    "                writer.add_scalar(f'Accuracy/Validation/{log_name}', epoch_acc, epoch)\n",
    "            \n",
    "            # deep copy the model\n",
    "            if phase == 'val' and epoch_acc > best_acc:\n",
    "                best_acc = epoch_acc\n",
    "                best_epoch = epoch\n",
    "                best_model = copy.deepcopy(model)\n",
    "               \n",
    "                \n",
    "            if phase == 'val':\n",
    "                early_stop(epoch_loss)\n",
    "                print('-'*120, end = '\\n\\n')\n",
    "                stop=early_stop.early_stop\n",
    "                        \n",
    "    print(f'Best val Acc: {best_acc:4f}')\n",
    "    print(f'Best epoch: {best_epoch:03d}')\n",
    "    writer.flush()\n",
    "    # load the best model \n",
    "    return best_model         "
   ]
  },
  {
   "cell_type": "code",
   "execution_count": null,
   "metadata": {
    "colab": {
     "base_uri": "https://localhost:8080/"
    },
    "id": "EWDxhbLaMH-G",
    "outputId": "a7d86773-ec64-47d3-d598-0d1de9fafeac"
   },
   "outputs": [
    {
     "name": "stdout",
     "output_type": "stream",
     "text": [
      "Epoch 1/30\n",
      "------------------------------------------------------------------------------------------------------------------------\n"
     ]
    },
    {
     "name": "stderr",
     "output_type": "stream",
     "text": [
      "  0%|          | 0/2232 [00:00<?, ?it/s]\n"
     ]
    },
    {
     "ename": "NameError",
     "evalue": "Caught NameError in DataLoader worker process 0.\nOriginal Traceback (most recent call last):\n  File \"/home/oem/miniconda3/envs/python3.10/lib/python3.10/site-packages/torch/utils/data/_utils/worker.py\", line 309, in _worker_loop\n    data = fetcher.fetch(index)  # type: ignore[possibly-undefined]\n  File \"/home/oem/miniconda3/envs/python3.10/lib/python3.10/site-packages/torch/utils/data/_utils/fetch.py\", line 52, in fetch\n    data = [self.dataset[idx] for idx in possibly_batched_index]\n  File \"/home/oem/miniconda3/envs/python3.10/lib/python3.10/site-packages/torch/utils/data/_utils/fetch.py\", line 52, in <listcomp>\n    data = [self.dataset[idx] for idx in possibly_batched_index]\n  File \"/tmp/ipykernel_48110/1782497746.py\", line 18, in __getitem__\n    img = np.array(img)\nNameError: name 'np' is not defined\n",
     "output_type": "error",
     "traceback": [
      "\u001b[0;31m---------------------------------------------------------------------------\u001b[0m",
      "\u001b[0;31mNameError\u001b[0m                                 Traceback (most recent call last)",
      "Cell \u001b[0;32mIn[16], line 11\u001b[0m\n\u001b[1;32m      7\u001b[0m early_stop \u001b[38;5;241m=\u001b[39m EarlyStopping(patience \u001b[38;5;241m=\u001b[39m \u001b[38;5;241m3\u001b[39m, min_delta \u001b[38;5;241m=\u001b[39m \u001b[38;5;241m0.001\u001b[39m)\n\u001b[1;32m      8\u001b[0m ImageFile\u001b[38;5;241m.\u001b[39mLOAD_TRUNCATED_IMAGES \u001b[38;5;241m=\u001b[39m \u001b[38;5;28;01mTrue\u001b[39;00m\n\u001b[0;32m---> 11\u001b[0m best_model_head \u001b[38;5;241m=\u001b[39m \u001b[43mfine_tune\u001b[49m\u001b[43m(\u001b[49m\u001b[43mmodel\u001b[49m\u001b[43m,\u001b[49m\u001b[43m \u001b[49m\u001b[43mtrain_loader\u001b[49m\u001b[43m,\u001b[49m\u001b[43m \u001b[49m\u001b[43mvalidation_loader\u001b[49m\u001b[43m,\u001b[49m\u001b[43m \u001b[49m\u001b[43mcriterion\u001b[49m\u001b[43m,\u001b[49m\u001b[43m \u001b[49m\u001b[43moptimizer\u001b[49m\u001b[43m,\u001b[49m\u001b[43m \u001b[49m\u001b[43mscheduler\u001b[49m\u001b[43m,\u001b[49m\u001b[43m \u001b[49m\n\u001b[1;32m     12\u001b[0m \u001b[43m                            \u001b[49m\u001b[43mearly_stop\u001b[49m\u001b[43m,\u001b[49m\u001b[43m \u001b[49m\u001b[43mnum_epochs\u001b[49m\u001b[43m \u001b[49m\u001b[38;5;241;43m=\u001b[39;49m\u001b[43m \u001b[49m\u001b[38;5;241;43m30\u001b[39;49m\u001b[43m,\u001b[49m\u001b[43m \u001b[49m\u001b[43mlog_name\u001b[49m\u001b[43m \u001b[49m\u001b[38;5;241;43m=\u001b[39;49m\u001b[43m \u001b[49m\u001b[38;5;124;43m'\u001b[39;49m\u001b[38;5;124;43mAlbumentation\u001b[39;49m\u001b[38;5;124;43m'\u001b[39;49m\u001b[43m)\u001b[49m\n\u001b[1;32m     14\u001b[0m \u001b[38;5;66;03m# Save the new best model head in the vit_model folder\u001b[39;00m\n\u001b[1;32m     15\u001b[0m torch\u001b[38;5;241m.\u001b[39msave(best_model_head, model_path)\n",
      "Cell \u001b[0;32mIn[15], line 27\u001b[0m, in \u001b[0;36mfine_tune\u001b[0;34m(model, train_loader, validation_loader, criterion, optimizer, scheduler, early_stop, num_epochs, log_name)\u001b[0m\n\u001b[1;32m     24\u001b[0m running_corrects \u001b[38;5;241m=\u001b[39m \u001b[38;5;241m0\u001b[39m\n\u001b[1;32m     26\u001b[0m \u001b[38;5;66;03m# Iterate over data\u001b[39;00m\n\u001b[0;32m---> 27\u001b[0m \u001b[38;5;28;01mfor\u001b[39;00m inputs, labels \u001b[38;5;129;01min\u001b[39;00m tqdm(data_loader):\n\u001b[1;32m     29\u001b[0m     inputs \u001b[38;5;241m=\u001b[39m inputs\u001b[38;5;241m.\u001b[39mto(device)\n\u001b[1;32m     30\u001b[0m     labels \u001b[38;5;241m=\u001b[39m labels\u001b[38;5;241m.\u001b[39mto(device)\n",
      "File \u001b[0;32m~/miniconda3/envs/python3.10/lib/python3.10/site-packages/tqdm/std.py:1181\u001b[0m, in \u001b[0;36mtqdm.__iter__\u001b[0;34m(self)\u001b[0m\n\u001b[1;32m   1178\u001b[0m time \u001b[38;5;241m=\u001b[39m \u001b[38;5;28mself\u001b[39m\u001b[38;5;241m.\u001b[39m_time\n\u001b[1;32m   1180\u001b[0m \u001b[38;5;28;01mtry\u001b[39;00m:\n\u001b[0;32m-> 1181\u001b[0m     \u001b[38;5;28;01mfor\u001b[39;00m obj \u001b[38;5;129;01min\u001b[39;00m iterable:\n\u001b[1;32m   1182\u001b[0m         \u001b[38;5;28;01myield\u001b[39;00m obj\n\u001b[1;32m   1183\u001b[0m         \u001b[38;5;66;03m# Update and possibly print the progressbar.\u001b[39;00m\n\u001b[1;32m   1184\u001b[0m         \u001b[38;5;66;03m# Note: does not call self.update(1) for speed optimisation.\u001b[39;00m\n",
      "File \u001b[0;32m~/miniconda3/envs/python3.10/lib/python3.10/site-packages/torch/utils/data/dataloader.py:630\u001b[0m, in \u001b[0;36m_BaseDataLoaderIter.__next__\u001b[0;34m(self)\u001b[0m\n\u001b[1;32m    627\u001b[0m \u001b[38;5;28;01mif\u001b[39;00m \u001b[38;5;28mself\u001b[39m\u001b[38;5;241m.\u001b[39m_sampler_iter \u001b[38;5;129;01mis\u001b[39;00m \u001b[38;5;28;01mNone\u001b[39;00m:\n\u001b[1;32m    628\u001b[0m     \u001b[38;5;66;03m# TODO(https://github.com/pytorch/pytorch/issues/76750)\u001b[39;00m\n\u001b[1;32m    629\u001b[0m     \u001b[38;5;28mself\u001b[39m\u001b[38;5;241m.\u001b[39m_reset()  \u001b[38;5;66;03m# type: ignore[call-arg]\u001b[39;00m\n\u001b[0;32m--> 630\u001b[0m data \u001b[38;5;241m=\u001b[39m \u001b[38;5;28;43mself\u001b[39;49m\u001b[38;5;241;43m.\u001b[39;49m\u001b[43m_next_data\u001b[49m\u001b[43m(\u001b[49m\u001b[43m)\u001b[49m\n\u001b[1;32m    631\u001b[0m \u001b[38;5;28mself\u001b[39m\u001b[38;5;241m.\u001b[39m_num_yielded \u001b[38;5;241m+\u001b[39m\u001b[38;5;241m=\u001b[39m \u001b[38;5;241m1\u001b[39m\n\u001b[1;32m    632\u001b[0m \u001b[38;5;28;01mif\u001b[39;00m \u001b[38;5;28mself\u001b[39m\u001b[38;5;241m.\u001b[39m_dataset_kind \u001b[38;5;241m==\u001b[39m _DatasetKind\u001b[38;5;241m.\u001b[39mIterable \u001b[38;5;129;01mand\u001b[39;00m \\\n\u001b[1;32m    633\u001b[0m         \u001b[38;5;28mself\u001b[39m\u001b[38;5;241m.\u001b[39m_IterableDataset_len_called \u001b[38;5;129;01mis\u001b[39;00m \u001b[38;5;129;01mnot\u001b[39;00m \u001b[38;5;28;01mNone\u001b[39;00m \u001b[38;5;129;01mand\u001b[39;00m \\\n\u001b[1;32m    634\u001b[0m         \u001b[38;5;28mself\u001b[39m\u001b[38;5;241m.\u001b[39m_num_yielded \u001b[38;5;241m>\u001b[39m \u001b[38;5;28mself\u001b[39m\u001b[38;5;241m.\u001b[39m_IterableDataset_len_called:\n",
      "File \u001b[0;32m~/miniconda3/envs/python3.10/lib/python3.10/site-packages/torch/utils/data/dataloader.py:1344\u001b[0m, in \u001b[0;36m_MultiProcessingDataLoaderIter._next_data\u001b[0;34m(self)\u001b[0m\n\u001b[1;32m   1342\u001b[0m \u001b[38;5;28;01melse\u001b[39;00m:\n\u001b[1;32m   1343\u001b[0m     \u001b[38;5;28;01mdel\u001b[39;00m \u001b[38;5;28mself\u001b[39m\u001b[38;5;241m.\u001b[39m_task_info[idx]\n\u001b[0;32m-> 1344\u001b[0m     \u001b[38;5;28;01mreturn\u001b[39;00m \u001b[38;5;28;43mself\u001b[39;49m\u001b[38;5;241;43m.\u001b[39;49m\u001b[43m_process_data\u001b[49m\u001b[43m(\u001b[49m\u001b[43mdata\u001b[49m\u001b[43m)\u001b[49m\n",
      "File \u001b[0;32m~/miniconda3/envs/python3.10/lib/python3.10/site-packages/torch/utils/data/dataloader.py:1370\u001b[0m, in \u001b[0;36m_MultiProcessingDataLoaderIter._process_data\u001b[0;34m(self, data)\u001b[0m\n\u001b[1;32m   1368\u001b[0m \u001b[38;5;28mself\u001b[39m\u001b[38;5;241m.\u001b[39m_try_put_index()\n\u001b[1;32m   1369\u001b[0m \u001b[38;5;28;01mif\u001b[39;00m \u001b[38;5;28misinstance\u001b[39m(data, ExceptionWrapper):\n\u001b[0;32m-> 1370\u001b[0m     \u001b[43mdata\u001b[49m\u001b[38;5;241;43m.\u001b[39;49m\u001b[43mreraise\u001b[49m\u001b[43m(\u001b[49m\u001b[43m)\u001b[49m\n\u001b[1;32m   1371\u001b[0m \u001b[38;5;28;01mreturn\u001b[39;00m data\n",
      "File \u001b[0;32m~/miniconda3/envs/python3.10/lib/python3.10/site-packages/torch/_utils.py:706\u001b[0m, in \u001b[0;36mExceptionWrapper.reraise\u001b[0;34m(self)\u001b[0m\n\u001b[1;32m    702\u001b[0m \u001b[38;5;28;01mexcept\u001b[39;00m \u001b[38;5;167;01mTypeError\u001b[39;00m:\n\u001b[1;32m    703\u001b[0m     \u001b[38;5;66;03m# If the exception takes multiple arguments, don't try to\u001b[39;00m\n\u001b[1;32m    704\u001b[0m     \u001b[38;5;66;03m# instantiate since we don't know how to\u001b[39;00m\n\u001b[1;32m    705\u001b[0m     \u001b[38;5;28;01mraise\u001b[39;00m \u001b[38;5;167;01mRuntimeError\u001b[39;00m(msg) \u001b[38;5;28;01mfrom\u001b[39;00m \u001b[38;5;28;01mNone\u001b[39;00m\n\u001b[0;32m--> 706\u001b[0m \u001b[38;5;28;01mraise\u001b[39;00m exception\n",
      "\u001b[0;31mNameError\u001b[0m: Caught NameError in DataLoader worker process 0.\nOriginal Traceback (most recent call last):\n  File \"/home/oem/miniconda3/envs/python3.10/lib/python3.10/site-packages/torch/utils/data/_utils/worker.py\", line 309, in _worker_loop\n    data = fetcher.fetch(index)  # type: ignore[possibly-undefined]\n  File \"/home/oem/miniconda3/envs/python3.10/lib/python3.10/site-packages/torch/utils/data/_utils/fetch.py\", line 52, in fetch\n    data = [self.dataset[idx] for idx in possibly_batched_index]\n  File \"/home/oem/miniconda3/envs/python3.10/lib/python3.10/site-packages/torch/utils/data/_utils/fetch.py\", line 52, in <listcomp>\n    data = [self.dataset[idx] for idx in possibly_batched_index]\n  File \"/tmp/ipykernel_48110/1782497746.py\", line 18, in __getitem__\n    img = np.array(img)\nNameError: name 'np' is not defined\n"
     ]
    }
   ],
   "source": [
    "model_path = os.path.join('saved_models/convnext_model', 'RealArt_vs_FakeArt_convnext_base.pt')\n",
    "\n",
    "if not 'RealArt_vs_FakeArt_convnext_base.pt' in os.listdir('saved_models/convnext_model'):\n",
    "   criterion = nn.CrossEntropyLoss()\n",
    "   optimizer = optim.Adam(model.parameters(), lr=1e-3)\n",
    "   scheduler = lr_scheduler.StepLR(optimizer, step_size=7, gamma=0.1)\n",
    "   early_stop = EarlyStopping(patience = 3, min_delta = 0.001)\n",
    "   ImageFile.LOAD_TRUNCATED_IMAGES = True\n",
    "\n",
    "\n",
    "   best_model_head = fine_tune(model, train_loader, validation_loader, criterion, optimizer, scheduler, \n",
    "                               early_stop, num_epochs = 30, log_name = 'Albumentation')\n",
    "\n",
    "   # Save the new best model head in the vit_model folder\n",
    "   torch.save(best_model_head, model_path)\n",
    "else: \n",
    "     model = timm.create_model('convnext_base',pretrained=True, num_classes=2) \n",
    "     model = torch.load(model_path)  # Load the full model\n",
    "     print(\"Model loaded successfully from:\", model_path)"
   ]
  },
  {
   "cell_type": "markdown",
   "metadata": {
    "id": "Ra1QN4PE6WRX"
   },
   "source": [
    "TESTING"
   ]
  },
  {
   "cell_type": "code",
   "execution_count": null,
   "metadata": {
    "id": "lVj5Py0WKTkf"
   },
   "outputs": [],
   "source": [
    "from sklearn.metrics import confusion_matrix, precision_score, recall_score, f1_score, roc_auc_score\n",
    "import torch.nn.functional as F\n",
    "import matplotlib.pyplot as plt\n",
    "import numpy as np\n",
    "\n",
    "def add_labels_to_image(image, true_label, pred_label):\n",
    "    \"\"\"Add true and predicted labels to the image.\"\"\"\n",
    "    # Convert the image to uint8 if it's in float format\n",
    "    if image.dtype != np.uint8:\n",
    "        image = (image * 255).astype(np.uint8)\n",
    "\n",
    "    # Convert from RGB to BGR for OpenCV\n",
    "    bgr_image = cv2.cvtColor(image, cv2.COLOR_RGB2BGR)\n",
    "\n",
    "    # Prepare text without brackets\n",
    "    text = f'True: {int(true_label)}, Pred: {int(pred_label)}'\n",
    "    cv2.putText(bgr_image, text, (5, 20), cv2.FONT_HERSHEY_SIMPLEX, 0.5, (255, 255, 255), 1, cv2.LINE_AA)\n",
    "\n",
    "    # Convert back to RGB before returning\n",
    "    return cv2.cvtColor(bgr_image, cv2.COLOR_BGR2RGB)\n",
    "\n",
    "# funzione per il testing del modello\n",
    "def test_model(model, test_loader):\n",
    "    model.eval() # imposto il modello in modalità di valutazione\n",
    "    test_loss = 0\n",
    "    correct = 0\n",
    "    pred_list = []\n",
    "    true_list = []\n",
    "    misclassified_images = []\n",
    "    misclassified_preds = []\n",
    "    misclassified_true = []\n",
    "\n",
    "\n",
    "    # inizializza la barra di avanzamento\n",
    "    pbar = tqdm(total=len(test_loader))\n",
    "    \n",
    "    with torch.no_grad():\n",
    "        for data, target in test_loader:\n",
    "            data, target = data.to(device), target.to(device)\n",
    "            output = model(data)\n",
    "            test_loss += F.cross_entropy(output, target, reduction='sum').item() # sommo il loss di ogni batch\n",
    "            \n",
    "            pred = output.argmax(dim=1, keepdim=True) # ottengo la predizione del modello\n",
    "            pred_list.extend(pred.cpu().numpy()) # aggiungo la predizione alla lista\n",
    "            true_list.extend(target.cpu().numpy()) # aggiungo il target alla lista\n",
    "            \n",
    "            correct += pred.eq(target.view_as(pred)).sum().item() # aggiorno il contatore di classificazioni corrette\n",
    "\n",
    "            misclassified = ~pred.eq(target.view_as(pred)).squeeze()\n",
    "            if misclassified.any():\n",
    "                misclassified_images.extend(data[misclassified].cpu())\n",
    "                misclassified_preds.extend(pred[misclassified].cpu().numpy())\n",
    "                misclassified_true.extend(target[misclassified].cpu().numpy())\n",
    "\n",
    "            # update progress bar\n",
    "            pbar.update(1)\n",
    "            \n",
    "    test_loss /= len(test_loader.dataset)\n",
    "    accuracy = 100. * correct / len(test_loader.dataset)\n",
    "    recall = recall_score(true_list, pred_list, average='macro') # calcolo la recall\n",
    "    precision = precision_score(true_list, pred_list, average='macro') # calcolo la precision\n",
    "    f1 = f1_score(true_list, pred_list, average='macro') # calcolo la F1 score\n",
    "    auc = roc_auc_score(true_list, pred_list) # calcolo l'AUC\n",
    "    \n",
    "    print('\\nTest set: Average loss: {:.4f}, Accuracy: {}/{} ({:.2f}%), Recall: {:.2f}%, Precision: {:.2f}%, F1: {:.2f}%, AUC: {:.2f}%\\n'.format(\n",
    "        test_loss, correct, len(test_loader.dataset), accuracy, recall*100, precision*100, f1*100, auc*100))\n",
    "    \n",
    "    #Logging the misclassified images\n",
    "    for i, img in enumerate(misclassified_images):\n",
    "        img_np = img.permute(1, 2, 0).numpy()  # Convert tensor to numpy (C, H, W) to (H, W, C)\n",
    "        \n",
    "        # Ensure the image is in the right format for TensorBoard\n",
    "        if img_np.shape[-1] == 1:  # Check if the image is grayscale\n",
    "            img_np = img_np.squeeze(axis=2)  # Remove the channel dimension if it is 1\n",
    "        elif img_np.shape[0] == 1:  # If the shape is (1, H, W)\n",
    "            img_np = img_np.squeeze(axis=0)  # Remove the batch dimension\n",
    "\n",
    "        img_np = np.clip(img_np, 0, 1)  # Ensure the values are between 0 and 1\n",
    "        img_np = (img_np * 255).astype(np.uint8)  # Scale to 0-255 and convert to uint8\n",
    "\n",
    "        labeled_image = add_labels_to_image(img_np, misclassified_true[i], misclassified_preds[i])\n",
    "\n",
    "        # Log the image to TensorBoard\n",
    "        writer.add_image(f'Misclassified_True_{misclassified_true[i]}_Pred_{misclassified_preds[i]}_Index_{i}', labeled_image, dataformats='HWC')\n",
    "\n",
    "    writer.flush()\n",
    "    return accuracy, recall, precision, f1, auc"
   ]
  },
  {
   "cell_type": "markdown",
   "metadata": {},
   "source": [
    "use this for logs:\n",
    "tensorboard --logdir=./runs"
   ]
  },
  {
   "cell_type": "code",
   "execution_count": null,
   "metadata": {
    "colab": {
     "base_uri": "https://localhost:8080/"
    },
    "id": "FW2GesMHKf11",
    "outputId": "30e6c98e-eab6-4fe8-a641-9c61b3ac059e"
   },
   "outputs": [],
   "source": [
    "# accuracy,recall,precision,f1,auc = test_model(model,test_loader)\n",
    "writer.close()"
   ]
  },
  {
   "cell_type": "code",
   "execution_count": null,
   "metadata": {},
   "outputs": [],
   "source": []
  }
 ],
 "metadata": {
  "accelerator": "GPU",
  "colab": {
   "gpuType": "T4",
   "provenance": []
  },
  "gpuClass": "standard",
  "kernelspec": {
   "display_name": "python3.10",
   "language": "python",
   "name": "python3"
  },
  "language_info": {
   "codemirror_mode": {
    "name": "ipython",
    "version": 3
   },
   "file_extension": ".py",
   "mimetype": "text/x-python",
   "name": "python",
   "nbconvert_exporter": "python",
   "pygments_lexer": "ipython3",
   "version": "3.10.14"
  }
 },
 "nbformat": 4,
 "nbformat_minor": 0
}
