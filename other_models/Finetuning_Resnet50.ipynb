{
  "cells": [
    {
      "cell_type": "code",
      "execution_count": 1,
      "metadata": {
        "id": "9INzPcbAUYOK"
      },
      "outputs": [
        {
          "name": "stdout",
          "output_type": "stream",
          "text": [
            "cuda\n"
          ]
        }
      ],
      "source": [
        "#import libraries\n",
        "import torch\n",
        "import torch.nn as nn\n",
        "import shutil\n",
        "from torchvision import datasets, models, transforms\n",
        "from torch.utils.data import Dataset,DataLoader,random_split\n",
        "from tqdm import tqdm\n",
        "from sklearn.model_selection import train_test_split\n",
        "import os\n",
        "from PIL import Image,ImageFile\n",
        "import torch.optim as optim\n",
        "import pandas as pd\n",
        "import copy\n",
        "from torch.optim import lr_scheduler\n",
        "\n",
        "device = 'cuda' if torch.cuda.is_available() else 'cpu'\n",
        "print(device)"
      ]
    },
    {
      "cell_type": "code",
      "execution_count": 19,
      "metadata": {
        "id": "lgtLNNoslyOn"
      },
      "outputs": [],
      "source": [
        "base_data_dir = '../data'\n",
        "fake_dir = os.path.join(base_data_dir, 'generated')  # Fake artworks directory\n",
        "real_dir = os.path.join(base_data_dir, 'real')  # Real artworks directory"
      ]
    },
    {
      "cell_type": "markdown",
      "metadata": {
        "id": "0eqZfdnU2h0c"
      },
      "source": [
        "ARTWORK DATASET"
      ]
    },
    {
      "cell_type": "code",
      "execution_count": 20,
      "metadata": {
        "id": "JGgx0Qz7Abww"
      },
      "outputs": [],
      "source": [
        "#Class to manage artworks with respect to their authenticity\n",
        "\n",
        "class ArtworkDataset(Dataset):\n",
        "  def __init__(self,links,transform):\n",
        "      self.data = links\n",
        "      self.transform = transform\n",
        "\n",
        "  def __len__(self):\n",
        "    return self.data.index.shape[0]\n",
        "    \n",
        "  def __getitem__(self,idx):\n",
        "        img = Image.open(self.data.iloc[idx,0])\n",
        "        label_index = self.data.iloc[idx, 1]\n",
        "        if (img.mode != 'RGB'):\n",
        "            img = img.convert('RGB')\n",
        "        if self.transform:\n",
        "            img = self.transform(img)\n",
        "        return img, label_index\n"
      ]
    },
    {
      "cell_type": "code",
      "execution_count": 38,
      "metadata": {
        "id": "YtBEgWxnk6cl"
      },
      "outputs": [
        {
          "name": "stdout",
          "output_type": "stream",
          "text": [
            "CSV file saved at ../data/image_labels.csv\n"
          ]
        }
      ],
      "source": [
        "# Create a CSV file with paths to artwork images and their labels (real or fake)\n",
        "data = [] \n",
        "\n",
        "# Iterate over the fake artworks and add their paths and labels to the list\n",
        "for dirpath, dirnames, filenames in os.walk(fake_dir):\n",
        "    for filename in filenames:\n",
        "        if filename.endswith(\".jpg\"): # only consider jpg files\n",
        "            filepath = os.path.join(dirpath, filename)\n",
        "            data.append((filepath, \"0\"))\n",
        "\n",
        "\n",
        "# Iterate over the real artworks and add their paths and labels to the list\n",
        "for dirpath, dirnames, filenames in os.walk(real_dir):\n",
        "    for filename in filenames:\n",
        "        if filename.endswith(\".jpg\"):\n",
        "            filepath = os.path.join(dirpath, filename)\n",
        "            data.append((filepath, \"1\"))  # Label 1 for real artworks\n",
        "\n",
        "# Convert the list \"data\" to a pandas dataframe\n",
        "df = pd.DataFrame(data, columns=[\"path\", \"label\"])\n",
        "\n",
        "# Save the dataframe to a CSV file\n",
        "csv_output_path = os.path.join(base_data_dir, \"image_labels.csv\")\n",
        "df.to_csv(csv_output_path, index=False)\n",
        "print(f\"CSV file saved at {csv_output_path}\")\n"
      ]
    },
    {
      "cell_type": "markdown",
      "metadata": {
        "id": "E5tSRTVLyp14"
      },
      "source": [
        "LOAD PRETRAINED MODEL"
      ]
    },
    {
      "cell_type": "code",
      "execution_count": 39,
      "metadata": {
        "colab": {
          "base_uri": "https://localhost:8080/"
        },
        "id": "aMq_NPE1pbFG",
        "outputId": "a86e8690-f0ed-40df-f285-137995256b0f"
      },
      "outputs": [
        {
          "name": "stdout",
          "output_type": "stream",
          "text": [
            "Requirement already satisfied: timm in /home/oem/miniconda3/envs/python3.10/lib/python3.10/site-packages (1.0.9)\n",
            "Requirement already satisfied: torch in /home/oem/miniconda3/envs/python3.10/lib/python3.10/site-packages (from timm) (2.4.1)\n",
            "Requirement already satisfied: torchvision in /home/oem/miniconda3/envs/python3.10/lib/python3.10/site-packages (from timm) (0.19.1)\n",
            "Requirement already satisfied: pyyaml in /home/oem/miniconda3/envs/python3.10/lib/python3.10/site-packages (from timm) (6.0.1)\n",
            "Requirement already satisfied: huggingface_hub in /home/oem/miniconda3/envs/python3.10/lib/python3.10/site-packages (from timm) (0.24.6)\n",
            "Requirement already satisfied: safetensors in /home/oem/miniconda3/envs/python3.10/lib/python3.10/site-packages (from timm) (0.4.4)\n",
            "Requirement already satisfied: filelock in /home/oem/miniconda3/envs/python3.10/lib/python3.10/site-packages (from huggingface_hub->timm) (3.13.1)\n",
            "Requirement already satisfied: fsspec>=2023.5.0 in /home/oem/miniconda3/envs/python3.10/lib/python3.10/site-packages (from huggingface_hub->timm) (2024.6.1)\n",
            "Requirement already satisfied: packaging>=20.9 in /home/oem/miniconda3/envs/python3.10/lib/python3.10/site-packages (from huggingface_hub->timm) (24.1)\n",
            "Requirement already satisfied: requests in /home/oem/miniconda3/envs/python3.10/lib/python3.10/site-packages (from huggingface_hub->timm) (2.32.3)\n",
            "Requirement already satisfied: tqdm>=4.42.1 in /home/oem/miniconda3/envs/python3.10/lib/python3.10/site-packages (from huggingface_hub->timm) (4.66.5)\n",
            "Requirement already satisfied: typing-extensions>=3.7.4.3 in /home/oem/miniconda3/envs/python3.10/lib/python3.10/site-packages (from huggingface_hub->timm) (4.11.0)\n",
            "Requirement already satisfied: sympy in /home/oem/miniconda3/envs/python3.10/lib/python3.10/site-packages (from torch->timm) (1.13.2)\n",
            "Requirement already satisfied: networkx in /home/oem/miniconda3/envs/python3.10/lib/python3.10/site-packages (from torch->timm) (3.3)\n",
            "Requirement already satisfied: jinja2 in /home/oem/miniconda3/envs/python3.10/lib/python3.10/site-packages (from torch->timm) (3.1.4)\n",
            "Requirement already satisfied: numpy in /home/oem/miniconda3/envs/python3.10/lib/python3.10/site-packages (from torchvision->timm) (1.26.4)\n",
            "Requirement already satisfied: pillow!=8.3.*,>=5.3.0 in /home/oem/miniconda3/envs/python3.10/lib/python3.10/site-packages (from torchvision->timm) (10.4.0)\n",
            "Requirement already satisfied: MarkupSafe>=2.0 in /home/oem/miniconda3/envs/python3.10/lib/python3.10/site-packages (from jinja2->torch->timm) (2.1.3)\n",
            "Requirement already satisfied: charset-normalizer<4,>=2 in /home/oem/miniconda3/envs/python3.10/lib/python3.10/site-packages (from requests->huggingface_hub->timm) (3.3.2)\n",
            "Requirement already satisfied: idna<4,>=2.5 in /home/oem/miniconda3/envs/python3.10/lib/python3.10/site-packages (from requests->huggingface_hub->timm) (3.7)\n",
            "Requirement already satisfied: urllib3<3,>=1.21.1 in /home/oem/miniconda3/envs/python3.10/lib/python3.10/site-packages (from requests->huggingface_hub->timm) (2.2.3)\n",
            "Requirement already satisfied: certifi>=2017.4.17 in /home/oem/miniconda3/envs/python3.10/lib/python3.10/site-packages (from requests->huggingface_hub->timm) (2024.8.30)\n",
            "Requirement already satisfied: mpmath<1.4,>=1.1.0 in /home/oem/miniconda3/envs/python3.10/lib/python3.10/site-packages (from sympy->torch->timm) (1.3.0)\n",
            "Note: you may need to restart the kernel to use updated packages.\n",
            "ResNet(\n",
            "  (conv1): Conv2d(3, 64, kernel_size=(7, 7), stride=(2, 2), padding=(3, 3), bias=False)\n",
            "  (bn1): BatchNorm2d(64, eps=1e-05, momentum=0.1, affine=True, track_running_stats=True)\n",
            "  (act1): ReLU(inplace=True)\n",
            "  (maxpool): MaxPool2d(kernel_size=3, stride=2, padding=1, dilation=1, ceil_mode=False)\n",
            "  (layer1): Sequential(\n",
            "    (0): Bottleneck(\n",
            "      (conv1): Conv2d(64, 64, kernel_size=(1, 1), stride=(1, 1), bias=False)\n",
            "      (bn1): BatchNorm2d(64, eps=1e-05, momentum=0.1, affine=True, track_running_stats=True)\n",
            "      (act1): ReLU(inplace=True)\n",
            "      (conv2): Conv2d(64, 64, kernel_size=(3, 3), stride=(1, 1), padding=(1, 1), bias=False)\n",
            "      (bn2): BatchNorm2d(64, eps=1e-05, momentum=0.1, affine=True, track_running_stats=True)\n",
            "      (drop_block): Identity()\n",
            "      (act2): ReLU(inplace=True)\n",
            "      (aa): Identity()\n",
            "      (conv3): Conv2d(64, 256, kernel_size=(1, 1), stride=(1, 1), bias=False)\n",
            "      (bn3): BatchNorm2d(256, eps=1e-05, momentum=0.1, affine=True, track_running_stats=True)\n",
            "      (act3): ReLU(inplace=True)\n",
            "      (downsample): Sequential(\n",
            "        (0): Conv2d(64, 256, kernel_size=(1, 1), stride=(1, 1), bias=False)\n",
            "        (1): BatchNorm2d(256, eps=1e-05, momentum=0.1, affine=True, track_running_stats=True)\n",
            "      )\n",
            "    )\n",
            "    (1): Bottleneck(\n",
            "      (conv1): Conv2d(256, 64, kernel_size=(1, 1), stride=(1, 1), bias=False)\n",
            "      (bn1): BatchNorm2d(64, eps=1e-05, momentum=0.1, affine=True, track_running_stats=True)\n",
            "      (act1): ReLU(inplace=True)\n",
            "      (conv2): Conv2d(64, 64, kernel_size=(3, 3), stride=(1, 1), padding=(1, 1), bias=False)\n",
            "      (bn2): BatchNorm2d(64, eps=1e-05, momentum=0.1, affine=True, track_running_stats=True)\n",
            "      (drop_block): Identity()\n",
            "      (act2): ReLU(inplace=True)\n",
            "      (aa): Identity()\n",
            "      (conv3): Conv2d(64, 256, kernel_size=(1, 1), stride=(1, 1), bias=False)\n",
            "      (bn3): BatchNorm2d(256, eps=1e-05, momentum=0.1, affine=True, track_running_stats=True)\n",
            "      (act3): ReLU(inplace=True)\n",
            "    )\n",
            "    (2): Bottleneck(\n",
            "      (conv1): Conv2d(256, 64, kernel_size=(1, 1), stride=(1, 1), bias=False)\n",
            "      (bn1): BatchNorm2d(64, eps=1e-05, momentum=0.1, affine=True, track_running_stats=True)\n",
            "      (act1): ReLU(inplace=True)\n",
            "      (conv2): Conv2d(64, 64, kernel_size=(3, 3), stride=(1, 1), padding=(1, 1), bias=False)\n",
            "      (bn2): BatchNorm2d(64, eps=1e-05, momentum=0.1, affine=True, track_running_stats=True)\n",
            "      (drop_block): Identity()\n",
            "      (act2): ReLU(inplace=True)\n",
            "      (aa): Identity()\n",
            "      (conv3): Conv2d(64, 256, kernel_size=(1, 1), stride=(1, 1), bias=False)\n",
            "      (bn3): BatchNorm2d(256, eps=1e-05, momentum=0.1, affine=True, track_running_stats=True)\n",
            "      (act3): ReLU(inplace=True)\n",
            "    )\n",
            "  )\n",
            "  (layer2): Sequential(\n",
            "    (0): Bottleneck(\n",
            "      (conv1): Conv2d(256, 128, kernel_size=(1, 1), stride=(1, 1), bias=False)\n",
            "      (bn1): BatchNorm2d(128, eps=1e-05, momentum=0.1, affine=True, track_running_stats=True)\n",
            "      (act1): ReLU(inplace=True)\n",
            "      (conv2): Conv2d(128, 128, kernel_size=(3, 3), stride=(2, 2), padding=(1, 1), bias=False)\n",
            "      (bn2): BatchNorm2d(128, eps=1e-05, momentum=0.1, affine=True, track_running_stats=True)\n",
            "      (drop_block): Identity()\n",
            "      (act2): ReLU(inplace=True)\n",
            "      (aa): Identity()\n",
            "      (conv3): Conv2d(128, 512, kernel_size=(1, 1), stride=(1, 1), bias=False)\n",
            "      (bn3): BatchNorm2d(512, eps=1e-05, momentum=0.1, affine=True, track_running_stats=True)\n",
            "      (act3): ReLU(inplace=True)\n",
            "      (downsample): Sequential(\n",
            "        (0): Conv2d(256, 512, kernel_size=(1, 1), stride=(2, 2), bias=False)\n",
            "        (1): BatchNorm2d(512, eps=1e-05, momentum=0.1, affine=True, track_running_stats=True)\n",
            "      )\n",
            "    )\n",
            "    (1): Bottleneck(\n",
            "      (conv1): Conv2d(512, 128, kernel_size=(1, 1), stride=(1, 1), bias=False)\n",
            "      (bn1): BatchNorm2d(128, eps=1e-05, momentum=0.1, affine=True, track_running_stats=True)\n",
            "      (act1): ReLU(inplace=True)\n",
            "      (conv2): Conv2d(128, 128, kernel_size=(3, 3), stride=(1, 1), padding=(1, 1), bias=False)\n",
            "      (bn2): BatchNorm2d(128, eps=1e-05, momentum=0.1, affine=True, track_running_stats=True)\n",
            "      (drop_block): Identity()\n",
            "      (act2): ReLU(inplace=True)\n",
            "      (aa): Identity()\n",
            "      (conv3): Conv2d(128, 512, kernel_size=(1, 1), stride=(1, 1), bias=False)\n",
            "      (bn3): BatchNorm2d(512, eps=1e-05, momentum=0.1, affine=True, track_running_stats=True)\n",
            "      (act3): ReLU(inplace=True)\n",
            "    )\n",
            "    (2): Bottleneck(\n",
            "      (conv1): Conv2d(512, 128, kernel_size=(1, 1), stride=(1, 1), bias=False)\n",
            "      (bn1): BatchNorm2d(128, eps=1e-05, momentum=0.1, affine=True, track_running_stats=True)\n",
            "      (act1): ReLU(inplace=True)\n",
            "      (conv2): Conv2d(128, 128, kernel_size=(3, 3), stride=(1, 1), padding=(1, 1), bias=False)\n",
            "      (bn2): BatchNorm2d(128, eps=1e-05, momentum=0.1, affine=True, track_running_stats=True)\n",
            "      (drop_block): Identity()\n",
            "      (act2): ReLU(inplace=True)\n",
            "      (aa): Identity()\n",
            "      (conv3): Conv2d(128, 512, kernel_size=(1, 1), stride=(1, 1), bias=False)\n",
            "      (bn3): BatchNorm2d(512, eps=1e-05, momentum=0.1, affine=True, track_running_stats=True)\n",
            "      (act3): ReLU(inplace=True)\n",
            "    )\n",
            "    (3): Bottleneck(\n",
            "      (conv1): Conv2d(512, 128, kernel_size=(1, 1), stride=(1, 1), bias=False)\n",
            "      (bn1): BatchNorm2d(128, eps=1e-05, momentum=0.1, affine=True, track_running_stats=True)\n",
            "      (act1): ReLU(inplace=True)\n",
            "      (conv2): Conv2d(128, 128, kernel_size=(3, 3), stride=(1, 1), padding=(1, 1), bias=False)\n",
            "      (bn2): BatchNorm2d(128, eps=1e-05, momentum=0.1, affine=True, track_running_stats=True)\n",
            "      (drop_block): Identity()\n",
            "      (act2): ReLU(inplace=True)\n",
            "      (aa): Identity()\n",
            "      (conv3): Conv2d(128, 512, kernel_size=(1, 1), stride=(1, 1), bias=False)\n",
            "      (bn3): BatchNorm2d(512, eps=1e-05, momentum=0.1, affine=True, track_running_stats=True)\n",
            "      (act3): ReLU(inplace=True)\n",
            "    )\n",
            "  )\n",
            "  (layer3): Sequential(\n",
            "    (0): Bottleneck(\n",
            "      (conv1): Conv2d(512, 256, kernel_size=(1, 1), stride=(1, 1), bias=False)\n",
            "      (bn1): BatchNorm2d(256, eps=1e-05, momentum=0.1, affine=True, track_running_stats=True)\n",
            "      (act1): ReLU(inplace=True)\n",
            "      (conv2): Conv2d(256, 256, kernel_size=(3, 3), stride=(2, 2), padding=(1, 1), bias=False)\n",
            "      (bn2): BatchNorm2d(256, eps=1e-05, momentum=0.1, affine=True, track_running_stats=True)\n",
            "      (drop_block): Identity()\n",
            "      (act2): ReLU(inplace=True)\n",
            "      (aa): Identity()\n",
            "      (conv3): Conv2d(256, 1024, kernel_size=(1, 1), stride=(1, 1), bias=False)\n",
            "      (bn3): BatchNorm2d(1024, eps=1e-05, momentum=0.1, affine=True, track_running_stats=True)\n",
            "      (act3): ReLU(inplace=True)\n",
            "      (downsample): Sequential(\n",
            "        (0): Conv2d(512, 1024, kernel_size=(1, 1), stride=(2, 2), bias=False)\n",
            "        (1): BatchNorm2d(1024, eps=1e-05, momentum=0.1, affine=True, track_running_stats=True)\n",
            "      )\n",
            "    )\n",
            "    (1): Bottleneck(\n",
            "      (conv1): Conv2d(1024, 256, kernel_size=(1, 1), stride=(1, 1), bias=False)\n",
            "      (bn1): BatchNorm2d(256, eps=1e-05, momentum=0.1, affine=True, track_running_stats=True)\n",
            "      (act1): ReLU(inplace=True)\n",
            "      (conv2): Conv2d(256, 256, kernel_size=(3, 3), stride=(1, 1), padding=(1, 1), bias=False)\n",
            "      (bn2): BatchNorm2d(256, eps=1e-05, momentum=0.1, affine=True, track_running_stats=True)\n",
            "      (drop_block): Identity()\n",
            "      (act2): ReLU(inplace=True)\n",
            "      (aa): Identity()\n",
            "      (conv3): Conv2d(256, 1024, kernel_size=(1, 1), stride=(1, 1), bias=False)\n",
            "      (bn3): BatchNorm2d(1024, eps=1e-05, momentum=0.1, affine=True, track_running_stats=True)\n",
            "      (act3): ReLU(inplace=True)\n",
            "    )\n",
            "    (2): Bottleneck(\n",
            "      (conv1): Conv2d(1024, 256, kernel_size=(1, 1), stride=(1, 1), bias=False)\n",
            "      (bn1): BatchNorm2d(256, eps=1e-05, momentum=0.1, affine=True, track_running_stats=True)\n",
            "      (act1): ReLU(inplace=True)\n",
            "      (conv2): Conv2d(256, 256, kernel_size=(3, 3), stride=(1, 1), padding=(1, 1), bias=False)\n",
            "      (bn2): BatchNorm2d(256, eps=1e-05, momentum=0.1, affine=True, track_running_stats=True)\n",
            "      (drop_block): Identity()\n",
            "      (act2): ReLU(inplace=True)\n",
            "      (aa): Identity()\n",
            "      (conv3): Conv2d(256, 1024, kernel_size=(1, 1), stride=(1, 1), bias=False)\n",
            "      (bn3): BatchNorm2d(1024, eps=1e-05, momentum=0.1, affine=True, track_running_stats=True)\n",
            "      (act3): ReLU(inplace=True)\n",
            "    )\n",
            "    (3): Bottleneck(\n",
            "      (conv1): Conv2d(1024, 256, kernel_size=(1, 1), stride=(1, 1), bias=False)\n",
            "      (bn1): BatchNorm2d(256, eps=1e-05, momentum=0.1, affine=True, track_running_stats=True)\n",
            "      (act1): ReLU(inplace=True)\n",
            "      (conv2): Conv2d(256, 256, kernel_size=(3, 3), stride=(1, 1), padding=(1, 1), bias=False)\n",
            "      (bn2): BatchNorm2d(256, eps=1e-05, momentum=0.1, affine=True, track_running_stats=True)\n",
            "      (drop_block): Identity()\n",
            "      (act2): ReLU(inplace=True)\n",
            "      (aa): Identity()\n",
            "      (conv3): Conv2d(256, 1024, kernel_size=(1, 1), stride=(1, 1), bias=False)\n",
            "      (bn3): BatchNorm2d(1024, eps=1e-05, momentum=0.1, affine=True, track_running_stats=True)\n",
            "      (act3): ReLU(inplace=True)\n",
            "    )\n",
            "    (4): Bottleneck(\n",
            "      (conv1): Conv2d(1024, 256, kernel_size=(1, 1), stride=(1, 1), bias=False)\n",
            "      (bn1): BatchNorm2d(256, eps=1e-05, momentum=0.1, affine=True, track_running_stats=True)\n",
            "      (act1): ReLU(inplace=True)\n",
            "      (conv2): Conv2d(256, 256, kernel_size=(3, 3), stride=(1, 1), padding=(1, 1), bias=False)\n",
            "      (bn2): BatchNorm2d(256, eps=1e-05, momentum=0.1, affine=True, track_running_stats=True)\n",
            "      (drop_block): Identity()\n",
            "      (act2): ReLU(inplace=True)\n",
            "      (aa): Identity()\n",
            "      (conv3): Conv2d(256, 1024, kernel_size=(1, 1), stride=(1, 1), bias=False)\n",
            "      (bn3): BatchNorm2d(1024, eps=1e-05, momentum=0.1, affine=True, track_running_stats=True)\n",
            "      (act3): ReLU(inplace=True)\n",
            "    )\n",
            "    (5): Bottleneck(\n",
            "      (conv1): Conv2d(1024, 256, kernel_size=(1, 1), stride=(1, 1), bias=False)\n",
            "      (bn1): BatchNorm2d(256, eps=1e-05, momentum=0.1, affine=True, track_running_stats=True)\n",
            "      (act1): ReLU(inplace=True)\n",
            "      (conv2): Conv2d(256, 256, kernel_size=(3, 3), stride=(1, 1), padding=(1, 1), bias=False)\n",
            "      (bn2): BatchNorm2d(256, eps=1e-05, momentum=0.1, affine=True, track_running_stats=True)\n",
            "      (drop_block): Identity()\n",
            "      (act2): ReLU(inplace=True)\n",
            "      (aa): Identity()\n",
            "      (conv3): Conv2d(256, 1024, kernel_size=(1, 1), stride=(1, 1), bias=False)\n",
            "      (bn3): BatchNorm2d(1024, eps=1e-05, momentum=0.1, affine=True, track_running_stats=True)\n",
            "      (act3): ReLU(inplace=True)\n",
            "    )\n",
            "  )\n",
            "  (layer4): Sequential(\n",
            "    (0): Bottleneck(\n",
            "      (conv1): Conv2d(1024, 512, kernel_size=(1, 1), stride=(1, 1), bias=False)\n",
            "      (bn1): BatchNorm2d(512, eps=1e-05, momentum=0.1, affine=True, track_running_stats=True)\n",
            "      (act1): ReLU(inplace=True)\n",
            "      (conv2): Conv2d(512, 512, kernel_size=(3, 3), stride=(2, 2), padding=(1, 1), bias=False)\n",
            "      (bn2): BatchNorm2d(512, eps=1e-05, momentum=0.1, affine=True, track_running_stats=True)\n",
            "      (drop_block): Identity()\n",
            "      (act2): ReLU(inplace=True)\n",
            "      (aa): Identity()\n",
            "      (conv3): Conv2d(512, 2048, kernel_size=(1, 1), stride=(1, 1), bias=False)\n",
            "      (bn3): BatchNorm2d(2048, eps=1e-05, momentum=0.1, affine=True, track_running_stats=True)\n",
            "      (act3): ReLU(inplace=True)\n",
            "      (downsample): Sequential(\n",
            "        (0): Conv2d(1024, 2048, kernel_size=(1, 1), stride=(2, 2), bias=False)\n",
            "        (1): BatchNorm2d(2048, eps=1e-05, momentum=0.1, affine=True, track_running_stats=True)\n",
            "      )\n",
            "    )\n",
            "    (1): Bottleneck(\n",
            "      (conv1): Conv2d(2048, 512, kernel_size=(1, 1), stride=(1, 1), bias=False)\n",
            "      (bn1): BatchNorm2d(512, eps=1e-05, momentum=0.1, affine=True, track_running_stats=True)\n",
            "      (act1): ReLU(inplace=True)\n",
            "      (conv2): Conv2d(512, 512, kernel_size=(3, 3), stride=(1, 1), padding=(1, 1), bias=False)\n",
            "      (bn2): BatchNorm2d(512, eps=1e-05, momentum=0.1, affine=True, track_running_stats=True)\n",
            "      (drop_block): Identity()\n",
            "      (act2): ReLU(inplace=True)\n",
            "      (aa): Identity()\n",
            "      (conv3): Conv2d(512, 2048, kernel_size=(1, 1), stride=(1, 1), bias=False)\n",
            "      (bn3): BatchNorm2d(2048, eps=1e-05, momentum=0.1, affine=True, track_running_stats=True)\n",
            "      (act3): ReLU(inplace=True)\n",
            "    )\n",
            "    (2): Bottleneck(\n",
            "      (conv1): Conv2d(2048, 512, kernel_size=(1, 1), stride=(1, 1), bias=False)\n",
            "      (bn1): BatchNorm2d(512, eps=1e-05, momentum=0.1, affine=True, track_running_stats=True)\n",
            "      (act1): ReLU(inplace=True)\n",
            "      (conv2): Conv2d(512, 512, kernel_size=(3, 3), stride=(1, 1), padding=(1, 1), bias=False)\n",
            "      (bn2): BatchNorm2d(512, eps=1e-05, momentum=0.1, affine=True, track_running_stats=True)\n",
            "      (drop_block): Identity()\n",
            "      (act2): ReLU(inplace=True)\n",
            "      (aa): Identity()\n",
            "      (conv3): Conv2d(512, 2048, kernel_size=(1, 1), stride=(1, 1), bias=False)\n",
            "      (bn3): BatchNorm2d(2048, eps=1e-05, momentum=0.1, affine=True, track_running_stats=True)\n",
            "      (act3): ReLU(inplace=True)\n",
            "    )\n",
            "  )\n",
            "  (global_pool): SelectAdaptivePool2d(pool_type=avg, flatten=Flatten(start_dim=1, end_dim=-1))\n",
            "  (fc): Linear(in_features=2048, out_features=2, bias=True)\n",
            ")\n"
          ]
        }
      ],
      "source": [
        "%pip install timm\n",
        "import timm\n",
        "\n",
        "model = timm.create_model('resnet50',pretrained=True, num_classes=2)\n",
        "\n",
        "model = model.to(device)\n",
        "print(model)"
      ]
    },
    {
      "cell_type": "code",
      "execution_count": 40,
      "metadata": {
        "id": "VCk48tcMq95u"
      },
      "outputs": [],
      "source": [
        "#Setting the model weights to non-trainable\n",
        "for param in model.parameters(): \n",
        "    param.requires_grad = False"
      ]
    },
    {
      "cell_type": "code",
      "execution_count": 41,
      "metadata": {
        "id": "ekf7GcoTrIus"
      },
      "outputs": [],
      "source": [
        "#Make the last layer of the model trainable\n",
        "for p in model.fc.parameters(): \n",
        "    p.requires_grad=True\n"
      ]
    },
    {
      "cell_type": "markdown",
      "metadata": {
        "id": "zjxaiYnI0er8"
      },
      "source": [
        "SPLIT IN TRAINING AND VALIDATION SET"
      ]
    },
    {
      "cell_type": "code",
      "execution_count": 42,
      "metadata": {
        "colab": {
          "base_uri": "https://localhost:8080/",
          "height": 423
        },
        "id": "jAtnYc-86UaP",
        "outputId": "c1d498e5-effb-4815-a275-b3c4df241fc0"
      },
      "outputs": [
        {
          "data": {
            "text/html": [
              "<div>\n",
              "<style scoped>\n",
              "    .dataframe tbody tr th:only-of-type {\n",
              "        vertical-align: middle;\n",
              "    }\n",
              "\n",
              "    .dataframe tbody tr th {\n",
              "        vertical-align: top;\n",
              "    }\n",
              "\n",
              "    .dataframe thead th {\n",
              "        text-align: right;\n",
              "    }\n",
              "</style>\n",
              "<table border=\"1\" class=\"dataframe\">\n",
              "  <thead>\n",
              "    <tr style=\"text-align: right;\">\n",
              "      <th></th>\n",
              "      <th>path</th>\n",
              "      <th>label</th>\n",
              "    </tr>\n",
              "  </thead>\n",
              "  <tbody>\n",
              "    <tr>\n",
              "      <th>0</th>\n",
              "      <td>../data/generated/stylegan3-t-metfaces-1024x10...</td>\n",
              "      <td>0</td>\n",
              "    </tr>\n",
              "    <tr>\n",
              "      <th>1</th>\n",
              "      <td>../data/generated/stylegan3-t-metfaces-1024x10...</td>\n",
              "      <td>0</td>\n",
              "    </tr>\n",
              "    <tr>\n",
              "      <th>2</th>\n",
              "      <td>../data/generated/stylegan3-t-metfaces-1024x10...</td>\n",
              "      <td>0</td>\n",
              "    </tr>\n",
              "    <tr>\n",
              "      <th>3</th>\n",
              "      <td>../data/generated/stylegan3-t-metfaces-1024x10...</td>\n",
              "      <td>0</td>\n",
              "    </tr>\n",
              "    <tr>\n",
              "      <th>4</th>\n",
              "      <td>../data/generated/stylegan3-t-metfaces-1024x10...</td>\n",
              "      <td>0</td>\n",
              "    </tr>\n",
              "    <tr>\n",
              "      <th>...</th>\n",
              "      <td>...</td>\n",
              "      <td>...</td>\n",
              "    </tr>\n",
              "    <tr>\n",
              "      <th>88146</th>\n",
              "      <td>../data/real/paul-albert-besnard_robert-de-mon...</td>\n",
              "      <td>1</td>\n",
              "    </tr>\n",
              "    <tr>\n",
              "      <th>88147</th>\n",
              "      <td>../data/real/nikolai-ge_christ-and-the-discipl...</td>\n",
              "      <td>1</td>\n",
              "    </tr>\n",
              "    <tr>\n",
              "      <th>88148</th>\n",
              "      <td>../data/real/paul-bril_view-of-a-port-1607.jpg</td>\n",
              "      <td>1</td>\n",
              "    </tr>\n",
              "    <tr>\n",
              "      <th>88149</th>\n",
              "      <td>../data/real/felix-vallotton_the-port-of-marse...</td>\n",
              "      <td>1</td>\n",
              "    </tr>\n",
              "    <tr>\n",
              "      <th>88150</th>\n",
              "      <td>../data/real/nicholas-roerich_tidings-of-the-e...</td>\n",
              "      <td>1</td>\n",
              "    </tr>\n",
              "  </tbody>\n",
              "</table>\n",
              "<p>88151 rows × 2 columns</p>\n",
              "</div>"
            ],
            "text/plain": [
              "                                                    path  label\n",
              "0      ../data/generated/stylegan3-t-metfaces-1024x10...      0\n",
              "1      ../data/generated/stylegan3-t-metfaces-1024x10...      0\n",
              "2      ../data/generated/stylegan3-t-metfaces-1024x10...      0\n",
              "3      ../data/generated/stylegan3-t-metfaces-1024x10...      0\n",
              "4      ../data/generated/stylegan3-t-metfaces-1024x10...      0\n",
              "...                                                  ...    ...\n",
              "88146  ../data/real/paul-albert-besnard_robert-de-mon...      1\n",
              "88147  ../data/real/nikolai-ge_christ-and-the-discipl...      1\n",
              "88148     ../data/real/paul-bril_view-of-a-port-1607.jpg      1\n",
              "88149  ../data/real/felix-vallotton_the-port-of-marse...      1\n",
              "88150  ../data/real/nicholas-roerich_tidings-of-the-e...      1\n",
              "\n",
              "[88151 rows x 2 columns]"
            ]
          },
          "execution_count": 42,
          "metadata": {},
          "output_type": "execute_result"
        }
      ],
      "source": [
        "dataset = df\n",
        "dataset['label'] = dataset['label'].astype(int)\n",
        "dataset"
      ]
    },
    {
      "cell_type": "code",
      "execution_count": 43,
      "metadata": {
        "id": "g60Xfpx800Oo"
      },
      "outputs": [],
      "source": [
        "#train, validation = train_test_split(dataset.values, stratify=dataset.values[:, 1], test_size=.3, random_state = 1) \n",
        "\n",
        "# Split the dataset into two parts (train + validation, and test)\n",
        "train_val_data, test = train_test_split(dataset.values, test_size=0.1, random_state=1)\n",
        "\n",
        "# Split the train + validation part into training and validation sets\n",
        "train, validation = train_test_split(train_val_data, test_size=0.1, random_state=1)"
      ]
    },
    {
      "cell_type": "code",
      "execution_count": 44,
      "metadata": {
        "id": "uWkbE_RQ1pwq"
      },
      "outputs": [],
      "source": [
        "train_links = pd.DataFrame(train, columns = dataset.columns)\n",
        "validation_links = pd.DataFrame(validation, columns = dataset.columns)\n",
        "test_links = pd.DataFrame(test, columns = dataset.columns)"
      ]
    },
    {
      "cell_type": "markdown",
      "metadata": {
        "id": "8jHAZeSr3IBk"
      },
      "source": [
        "BUILDING DATA LOADERS"
      ]
    },
    {
      "cell_type": "code",
      "execution_count": 45,
      "metadata": {
        "id": "GMOMejkn65Dp"
      },
      "outputs": [],
      "source": [
        "data_transforms = transforms.Compose([\n",
        "                                transforms.Resize(224),\n",
        "                                transforms.CenterCrop(224),\n",
        "                                transforms.ToTensor(),\n",
        "                                transforms.Normalize((0.5, 0.5, 0.5), (0.5, 0.5, 0.5))\n",
        "                               \n",
        "     \n",
        "])\n",
        "\n",
        "\n",
        "batch_size = 32\n",
        "\n",
        "train_set = ArtworkDataset( train_links, data_transforms)\n",
        "\n",
        "train_loader = DataLoader(train_set, batch_size=batch_size, shuffle=True, \n",
        "                               drop_last=False,num_workers=2)\n",
        "\n",
        "validation_set = ArtworkDataset( validation_links, data_transforms)\n",
        "\n",
        "validation_loader = DataLoader(validation_set, batch_size=batch_size, shuffle=True, \n",
        "                               drop_last=False,num_workers=2)\n",
        "\n",
        "test_set = ArtworkDataset( test_links,data_transforms)\n",
        "\n",
        "test_loader = DataLoader(test_set,batch_size=batch_size, shuffle = True,\n",
        "                              drop_last=False,num_workers=2)"
      ]
    },
    {
      "cell_type": "markdown",
      "metadata": {
        "id": "_ghMo_wYLTuq"
      },
      "source": [
        "TRAINING"
      ]
    },
    {
      "cell_type": "code",
      "execution_count": 46,
      "metadata": {
        "id": "KQv22H68LXcR"
      },
      "outputs": [],
      "source": [
        "class EarlyStopping():\n",
        "    \"\"\"\n",
        "    Early stopping to stop the training when the loss does not improve after\n",
        "    certain epochs.\n",
        "    \"\"\"\n",
        "    def __init__(self, patience=5, min_delta=0.001):\n",
        "        \"\"\"\n",
        "        :param patience: how many epochs to wait before stopping when loss is\n",
        "               not improving\n",
        "        :param min_delta: minimum difference between new loss and old loss for\n",
        "               new loss to be considered as an improvement\n",
        "        \"\"\"\n",
        "        self.patience = patience\n",
        "        self.min_delta = min_delta\n",
        "        self.wait = 0\n",
        "        self.best_loss = None\n",
        "        self.early_stop = False\n",
        "        # Define the directory for saving the model\n",
        "        self.model_dir = os.path.join(os.getcwd(), 'resnet_model')  # Save in 'vit_model' folder in the current directory\n",
        "        # Create the directory if it doesn't exist\n",
        "        os.makedirs(self.model_dir, exist_ok=True)\n",
        "\n",
        "    def __call__(self, current_loss):\n",
        "        if self.best_loss == None:\n",
        "            self.best_loss = current_loss\n",
        "        elif (current_loss - self.best_loss) < -self.min_delta:\n",
        "            self.best_loss = current_loss\n",
        "            self.wait = 0\n",
        "            \n",
        "             # Save the model state\n",
        "            model_path = os.path.join(self.model_dir, 'RealArt_vs_FakeArt_resnet50.pt')\n",
        "\n",
        "            # Remove the old model if it exists in the same directory\n",
        "            if os.path.exists(model_path):\n",
        "                os.remove(model_path)\n",
        "            \n",
        "            # save the new model \n",
        "            torch.save(model.state_dict(), model_path)\n",
        "        else:\n",
        "            self.wait = self.wait + 1\n",
        "            print(f\"INFO: Early stopping counter {self.wait} of {self.patience}\")\n",
        "            if self.wait >= self.patience:\n",
        "                self.early_stop = True"
      ]
    },
    {
      "cell_type": "code",
      "execution_count": 47,
      "metadata": {
        "id": "k500OZKGLj2W"
      },
      "outputs": [],
      "source": [
        "def fine_tune(model, train_loader, validation_loader, criterion, optimizer, scheduler, early_stop ,num_epochs = 100):\n",
        "    best_model = copy.deepcopy(model)\n",
        "    best_acc = 0.0\n",
        "    best_epoch=0\n",
        "    stop = False\n",
        "    \n",
        "    for epoch in range(1, num_epochs + 1):\n",
        "        if stop:\n",
        "            break\n",
        "        print(f'Epoch {epoch}/{num_epochs}')\n",
        "        print('-'*120)\n",
        "\n",
        "        data_loader = None\n",
        "        # Each epoch has a training and validation phase\n",
        "        for phase in ['train', 'val']:\n",
        "            if phase == 'train':\n",
        "                model.train()  # Set model to training mode\n",
        "                data_loader = train_loader\n",
        "            else:\n",
        "                model.eval()   # Set model to evaluate mode\n",
        "                data_loader = validation_loader\n",
        "\n",
        "            running_loss = 0.0\n",
        "            running_corrects = 0\n",
        "\n",
        "            # Iterate over data\n",
        "            for inputs, labels in tqdm(data_loader):\n",
        "                \n",
        "                inputs = inputs.to(device)\n",
        "                labels = labels.to(device)\n",
        "                \n",
        "                # zero the parameter gradients\n",
        "                optimizer.zero_grad()\n",
        "\n",
        "                # forward\n",
        "                # track history if only in train\n",
        "                with torch.set_grad_enabled(phase == 'train'):\n",
        "                    outputs = model(inputs)\n",
        "                    outputs = nn.Softmax(dim = 1)(outputs)\n",
        "                    _, preds = torch.max(outputs, 1)\n",
        "                    loss = criterion(outputs, labels)\n",
        "\n",
        "                    # backward + optimize only if in training phase\n",
        "                    if phase == 'train':\n",
        "                        loss.backward()\n",
        "                        optimizer.step()\n",
        "                # statistics\n",
        "                running_loss += loss.item() * inputs.size(0)\n",
        "                running_corrects += torch.sum(preds == labels.data)\n",
        "            if phase == 'train':\n",
        "                scheduler.step()\n",
        "\n",
        "            epoch_loss = running_loss / (len(data_loader) * data_loader.batch_size)\n",
        "            epoch_acc = running_corrects.double() / (len(data_loader) * data_loader.batch_size)\n",
        "\n",
        "            print(f'{phase} Loss: {epoch_loss:.4f} Acc: {epoch_acc:.4f}')\n",
        "            \n",
        "            \n",
        "            # deep copy the model\n",
        "            if phase == 'val' and epoch_acc > best_acc:\n",
        "                best_acc = epoch_acc\n",
        "                best_epoch = epoch\n",
        "                best_model = copy.deepcopy(model)\n",
        "               \n",
        "                \n",
        "            if phase == 'val':\n",
        "                early_stop(epoch_loss)\n",
        "                print('-'*120, end = '\\n\\n')\n",
        "                stop=early_stop.early_stop\n",
        "                \n",
        "                \n",
        "    print(f'Best val Acc: {best_acc:4f}')\n",
        "    print(f'Best epoch: {best_epoch:03d}')\n",
        "\n",
        "    # load the best model \n",
        "    return best_model         "
      ]
    },
    {
      "cell_type": "code",
      "execution_count": 48,
      "metadata": {
        "colab": {
          "base_uri": "https://localhost:8080/"
        },
        "id": "EWDxhbLaMH-G",
        "outputId": "a7d86773-ec64-47d3-d598-0d1de9fafeac"
      },
      "outputs": [
        {
          "name": "stdout",
          "output_type": "stream",
          "text": [
            "Epoch 1/30\n",
            "------------------------------------------------------------------------------------------------------------------------\n"
          ]
        },
        {
          "name": "stderr",
          "output_type": "stream",
          "text": [
            "  0%|          | 0/2232 [00:00<?, ?it/s]"
          ]
        },
        {
          "name": "stderr",
          "output_type": "stream",
          "text": [
            "100%|██████████| 2232/2232 [01:07<00:00, 33.06it/s]\n"
          ]
        },
        {
          "name": "stdout",
          "output_type": "stream",
          "text": [
            "train Loss: 0.3910 Acc: 0.9345\n"
          ]
        },
        {
          "name": "stderr",
          "output_type": "stream",
          "text": [
            "100%|██████████| 248/248 [00:07<00:00, 34.39it/s]\n"
          ]
        },
        {
          "name": "stdout",
          "output_type": "stream",
          "text": [
            "val Loss: 0.3629 Acc: 0.9569\n",
            "------------------------------------------------------------------------------------------------------------------------\n",
            "\n",
            "Epoch 2/30\n",
            "------------------------------------------------------------------------------------------------------------------------\n"
          ]
        },
        {
          "name": "stderr",
          "output_type": "stream",
          "text": [
            "100%|██████████| 2232/2232 [01:07<00:00, 32.94it/s]\n"
          ]
        },
        {
          "name": "stdout",
          "output_type": "stream",
          "text": [
            "train Loss: 0.3632 Acc: 0.9533\n"
          ]
        },
        {
          "name": "stderr",
          "output_type": "stream",
          "text": [
            "100%|██████████| 248/248 [00:07<00:00, 34.35it/s]\n"
          ]
        },
        {
          "name": "stdout",
          "output_type": "stream",
          "text": [
            "val Loss: 0.3535 Acc: 0.9653\n",
            "------------------------------------------------------------------------------------------------------------------------\n",
            "\n",
            "Epoch 3/30\n",
            "------------------------------------------------------------------------------------------------------------------------\n"
          ]
        },
        {
          "name": "stderr",
          "output_type": "stream",
          "text": [
            "100%|██████████| 2232/2232 [01:07<00:00, 33.01it/s]\n"
          ]
        },
        {
          "name": "stdout",
          "output_type": "stream",
          "text": [
            "train Loss: 0.3571 Acc: 0.9581\n"
          ]
        },
        {
          "name": "stderr",
          "output_type": "stream",
          "text": [
            "100%|██████████| 248/248 [00:07<00:00, 34.28it/s]\n"
          ]
        },
        {
          "name": "stdout",
          "output_type": "stream",
          "text": [
            "val Loss: 0.3542 Acc: 0.9626\n",
            "INFO: Early stopping counter 1 of 3\n",
            "------------------------------------------------------------------------------------------------------------------------\n",
            "\n",
            "Epoch 4/30\n",
            "------------------------------------------------------------------------------------------------------------------------\n"
          ]
        },
        {
          "name": "stderr",
          "output_type": "stream",
          "text": [
            "100%|██████████| 2232/2232 [01:07<00:00, 32.85it/s]\n"
          ]
        },
        {
          "name": "stdout",
          "output_type": "stream",
          "text": [
            "train Loss: 0.3546 Acc: 0.9596\n"
          ]
        },
        {
          "name": "stderr",
          "output_type": "stream",
          "text": [
            "100%|██████████| 248/248 [00:07<00:00, 34.18it/s]\n"
          ]
        },
        {
          "name": "stdout",
          "output_type": "stream",
          "text": [
            "val Loss: 0.3495 Acc: 0.9651\n",
            "------------------------------------------------------------------------------------------------------------------------\n",
            "\n",
            "Epoch 5/30\n",
            "------------------------------------------------------------------------------------------------------------------------\n"
          ]
        },
        {
          "name": "stderr",
          "output_type": "stream",
          "text": [
            "100%|██████████| 2232/2232 [01:08<00:00, 32.79it/s]\n"
          ]
        },
        {
          "name": "stdout",
          "output_type": "stream",
          "text": [
            "train Loss: 0.3530 Acc: 0.9613\n"
          ]
        },
        {
          "name": "stderr",
          "output_type": "stream",
          "text": [
            "100%|██████████| 248/248 [00:07<00:00, 34.27it/s]\n"
          ]
        },
        {
          "name": "stdout",
          "output_type": "stream",
          "text": [
            "val Loss: 0.3488 Acc: 0.9655\n",
            "INFO: Early stopping counter 1 of 3\n",
            "------------------------------------------------------------------------------------------------------------------------\n",
            "\n",
            "Epoch 6/30\n",
            "------------------------------------------------------------------------------------------------------------------------\n"
          ]
        },
        {
          "name": "stderr",
          "output_type": "stream",
          "text": [
            "100%|██████████| 2232/2232 [01:08<00:00, 32.63it/s]\n"
          ]
        },
        {
          "name": "stdout",
          "output_type": "stream",
          "text": [
            "train Loss: 0.3515 Acc: 0.9627\n"
          ]
        },
        {
          "name": "stderr",
          "output_type": "stream",
          "text": [
            "100%|██████████| 248/248 [00:07<00:00, 34.03it/s]\n"
          ]
        },
        {
          "name": "stdout",
          "output_type": "stream",
          "text": [
            "val Loss: 0.3469 Acc: 0.9674\n",
            "------------------------------------------------------------------------------------------------------------------------\n",
            "\n",
            "Epoch 7/30\n",
            "------------------------------------------------------------------------------------------------------------------------\n"
          ]
        },
        {
          "name": "stderr",
          "output_type": "stream",
          "text": [
            "100%|██████████| 2232/2232 [01:08<00:00, 32.56it/s]\n"
          ]
        },
        {
          "name": "stdout",
          "output_type": "stream",
          "text": [
            "train Loss: 0.3503 Acc: 0.9633\n"
          ]
        },
        {
          "name": "stderr",
          "output_type": "stream",
          "text": [
            "100%|██████████| 248/248 [00:07<00:00, 33.87it/s]\n"
          ]
        },
        {
          "name": "stdout",
          "output_type": "stream",
          "text": [
            "val Loss: 0.3462 Acc: 0.9685\n",
            "INFO: Early stopping counter 1 of 3\n",
            "------------------------------------------------------------------------------------------------------------------------\n",
            "\n",
            "Epoch 8/30\n",
            "------------------------------------------------------------------------------------------------------------------------\n"
          ]
        },
        {
          "name": "stderr",
          "output_type": "stream",
          "text": [
            "100%|██████████| 2232/2232 [01:08<00:00, 32.51it/s]\n"
          ]
        },
        {
          "name": "stdout",
          "output_type": "stream",
          "text": [
            "train Loss: 0.3491 Acc: 0.9646\n"
          ]
        },
        {
          "name": "stderr",
          "output_type": "stream",
          "text": [
            "100%|██████████| 248/248 [00:07<00:00, 33.80it/s]\n"
          ]
        },
        {
          "name": "stdout",
          "output_type": "stream",
          "text": [
            "val Loss: 0.3462 Acc: 0.9686\n",
            "INFO: Early stopping counter 2 of 3\n",
            "------------------------------------------------------------------------------------------------------------------------\n",
            "\n",
            "Epoch 9/30\n",
            "------------------------------------------------------------------------------------------------------------------------\n"
          ]
        },
        {
          "name": "stderr",
          "output_type": "stream",
          "text": [
            "100%|██████████| 2232/2232 [01:08<00:00, 32.36it/s]\n"
          ]
        },
        {
          "name": "stdout",
          "output_type": "stream",
          "text": [
            "train Loss: 0.3493 Acc: 0.9641\n"
          ]
        },
        {
          "name": "stderr",
          "output_type": "stream",
          "text": [
            "100%|██████████| 248/248 [00:07<00:00, 33.76it/s]"
          ]
        },
        {
          "name": "stdout",
          "output_type": "stream",
          "text": [
            "val Loss: 0.3478 Acc: 0.9665\n",
            "INFO: Early stopping counter 3 of 3\n",
            "------------------------------------------------------------------------------------------------------------------------\n",
            "\n",
            "Best val Acc: 0.968624\n",
            "Best epoch: 008\n"
          ]
        },
        {
          "name": "stderr",
          "output_type": "stream",
          "text": [
            "\n"
          ]
        }
      ],
      "source": [
        "if not 'RealArt_vs_FakeArt_resnet50.pt' in os.listdir('resnet_model'):\n",
        "   criterion = nn.CrossEntropyLoss()\n",
        "   optimizer = optim.Adam(model.parameters(), lr=1e-3)\n",
        "   scheduler = lr_scheduler.StepLR(optimizer, step_size=7, gamma=0.1)\n",
        "   early_stop = EarlyStopping(patience = 3, min_delta = 0.001)\n",
        "   ImageFile.LOAD_TRUNCATED_IMAGES = True\n",
        "\n",
        "\n",
        "   best_model_head = fine_tune(model, train_loader, validation_loader, criterion, optimizer, scheduler, early_stop, num_epochs = 30)\n",
        "   \n",
        "   # define the model path\n",
        "   model_path = os.path.join('resnet_model', 'RealArt_vs_FakeArt_resnet50.pt')\n",
        "   # Remove the old model if it exists\n",
        "   if os.path.exists(model_path):\n",
        "        os.remove(model_path)\n",
        "\n",
        "   # Save the new best model head in the vit_model folder\n",
        "   torch.save(best_model_head, model_path)"
      ]
    },
    {
      "cell_type": "markdown",
      "metadata": {
        "id": "Ra1QN4PE6WRX"
      },
      "source": [
        "TESTING"
      ]
    },
    {
      "cell_type": "code",
      "execution_count": 49,
      "metadata": {
        "id": "lVj5Py0WKTkf"
      },
      "outputs": [],
      "source": [
        "from sklearn.metrics import confusion_matrix, precision_score, recall_score, f1_score, roc_auc_score\n",
        "import torch.nn.functional as F\n",
        "import matplotlib.pyplot as plt\n",
        "import numpy as np\n",
        "\n",
        "# funzione per il testing del modello\n",
        "def test_model(model, test_loader):\n",
        "    model.eval() # imposto il modello in modalità di valutazione\n",
        "    test_loss = 0\n",
        "    correct = 0\n",
        "    pred_list = []\n",
        "    true_list = []\n",
        "    # inizializza la barra di avanzamento\n",
        "    pbar = tqdm(total=len(test_loader))\n",
        "    \n",
        "    with torch.no_grad():\n",
        "        for data, target in test_loader:\n",
        "            data, target = data.to(device), target.to(device)\n",
        "            output = model(data)\n",
        "            test_loss += F.cross_entropy(output, target, reduction='sum').item() # sommo il loss di ogni batch\n",
        "            \n",
        "            pred = output.argmax(dim=1, keepdim=True) # ottengo la predizione del modello\n",
        "            pred_list.extend(pred.cpu().numpy()) # aggiungo la predizione alla lista\n",
        "            true_list.extend(target.cpu().numpy()) # aggiungo il target alla lista\n",
        "            \n",
        "            correct += pred.eq(target.view_as(pred)).sum().item() # aggiorno il contatore di classificazioni corrette\n",
        "            # aggiorna la barra di avanzamento\n",
        "            pbar.update(1)\n",
        "    test_loss /= len(test_loader.dataset)\n",
        "    accuracy = 100. * correct / len(test_loader.dataset)\n",
        "    recall = recall_score(true_list, pred_list, average='macro') # calcolo la recall\n",
        "    precision = precision_score(true_list, pred_list, average='macro') # calcolo la precision\n",
        "    f1 = f1_score(true_list, pred_list, average='macro') # calcolo la F1 score\n",
        "    auc = roc_auc_score(true_list, pred_list) # calcolo l'AUC\n",
        "    \n",
        "    print('\\nTest set: Average loss: {:.4f}, Accuracy: {}/{} ({:.2f}%), Recall: {:.2f}%, Precision: {:.2f}%, F1: {:.2f}%, AUC: {:.2f}%\\n'.format(\n",
        "        test_loss, correct, len(test_loader.dataset), accuracy, recall*100, precision*100, f1*100, auc*100))\n",
        "    \n",
        "    return accuracy, recall, precision, f1, auc"
      ]
    },
    {
      "cell_type": "code",
      "execution_count": 50,
      "metadata": {
        "colab": {
          "base_uri": "https://localhost:8080/"
        },
        "id": "FW2GesMHKf11",
        "outputId": "30e6c98e-eab6-4fe8-a641-9c61b3ac059e"
      },
      "outputs": [
        {
          "name": "stderr",
          "output_type": "stream",
          "text": [
            "100%|██████████| 276/276 [00:07<00:00, 34.95it/s]"
          ]
        },
        {
          "name": "stdout",
          "output_type": "stream",
          "text": [
            "\n",
            "Test set: Average loss: 0.1071, Accuracy: 8534/8816 (96.80%), Recall: 96.59%, Precision: 96.94%, F1: 96.75%, AUC: 96.59%\n",
            "\n"
          ]
        },
        {
          "name": "stderr",
          "output_type": "stream",
          "text": [
            "\n"
          ]
        }
      ],
      "source": [
        "accuracy,recall,precision,f1,auc = test_model(model,test_loader)"
      ]
    }
  ],
  "metadata": {
    "accelerator": "GPU",
    "colab": {
      "gpuType": "T4",
      "provenance": []
    },
    "gpuClass": "standard",
    "kernelspec": {
      "display_name": "python3.10",
      "language": "python",
      "name": "python3"
    },
    "language_info": {
      "codemirror_mode": {
        "name": "ipython",
        "version": 3
      },
      "file_extension": ".py",
      "mimetype": "text/x-python",
      "name": "python",
      "nbconvert_exporter": "python",
      "pygments_lexer": "ipython3",
      "version": "3.10.14"
    }
  },
  "nbformat": 4,
  "nbformat_minor": 0
}
